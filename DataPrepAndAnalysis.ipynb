{
 "cells": [
  {
   "cell_type": "code",
   "execution_count": 38,
   "metadata": {},
   "outputs": [],
   "source": [
    "import json\n",
    "import nltk\n",
    "import pandas as pd\n",
    "from pandas import ExcelWriter\n",
    "import matplotlib.pyplot as plt\n",
    "import matplotlib.dates as mdates\n",
    "import re\n",
    "from bs4 import BeautifulSoup\n",
    "from nltk.tokenize import WordPunctTokenizer\n",
    "from wordcloud import WordCloud\n",
    "from nltk.corpus import stopwords\n",
    "import numpy as np\n",
    "from wordcloud import WordCloud, STOPWORDS, ImageColorGenerator\n",
    "from datetime import datetime\n",
    "from sklearn.model_selection import train_test_split\n",
    "from sklearn.preprocessing import scale, label_binarize\n",
    "from sklearn.linear_model import LogisticRegression\n",
    "from sklearn.feature_extraction.text import CountVectorizer\n",
    "from scipy.stats import hmean\n",
    "from scipy.stats import norm\n",
    "from tqdm import tqdm\n",
    "tqdm.pandas(desc=\"progress-bar\")\n",
    "from gensim.models import Doc2Vec\n",
    "from gensim.models.doc2vec import LabeledSentence, TaggedDocument\n",
    "from gensim.models.word2vec import Word2Vec\n",
    "import multiprocessing\n",
    "from sklearn import utils\n",
    "from keras.models import Sequential\n",
    "from keras.layers import Input, Dense, Dropout, concatenate, Activation\n",
    "from keras.layers import Flatten, Conv1D, GlobalMaxPooling1D\n",
    "from keras.layers.embeddings import Embedding\n",
    "from keras.preprocessing import sequence\n",
    "from keras.models import Model\n",
    "#nltk.download('stopwords')"
   ]
  },
  {
   "cell_type": "code",
   "execution_count": 2,
   "metadata": {},
   "outputs": [],
   "source": [
    "#Read Train Dataset\n",
    "tweets=pd.read_csv(\"D:/Thesis/Code/Data/train_data.csv\")"
   ]
  },
  {
   "cell_type": "code",
   "execution_count": null,
   "metadata": {},
   "outputs": [],
   "source": [
    "tweets.head()"
   ]
  },
  {
   "cell_type": "code",
   "execution_count": 3,
   "metadata": {},
   "outputs": [],
   "source": [
    "#Data Cleaning\n",
    "tok = WordPunctTokenizer()\n",
    "#stop_words = set(stopwords.words('english')) \n",
    "pat1 = r'@[A-Za-z0-9_]+'\n",
    "pat2 = r'https?://[^ ]+'\n",
    "pat3 = r'RT @[A-Za-z0-9_]+'\n",
    "pat4 = r'RT @[A-Za-z0-9_ ] RT+'\n",
    "#combined_pat = r'|'.join((pat1, pat2,pat3))\n",
    "combined_pat = r'|'.join((pat1, pat2))\n",
    "www_pat = r'www.[^ ]+'\n",
    "negations_dic = {\"isn't\":\"is not\", \"aren't\":\"are not\", \"wasn't\":\"was not\", \"weren't\":\"were not\",\n",
    "                \"haven't\":\"have not\",\"hasn't\":\"has not\",\"hadn't\":\"had not\",\"won't\":\"will not\",\n",
    "                \"wouldn't\":\"would not\", \"don't\":\"do not\", \"doesn't\":\"does not\",\"didn't\":\"did not\",\n",
    "                \"can't\":\"can not\",\"couldn't\":\"could not\",\"shouldn't\":\"should not\",\"mightn't\":\"might not\",\n",
    "                \"mustn't\":\"must not\"}\n",
    "neg_pattern = re.compile(r'\\b(' + '|'.join(negations_dic.keys()) + r')\\b')\n",
    "rt_pattern= re.compile(pat3,flags=re.IGNORECASE)\n",
    "def tweet_cleaner_updated(text):\n",
    "    soup = BeautifulSoup(text, 'lxml')\n",
    "    souped = soup.get_text()\n",
    "    try:\n",
    "        bom_removed = souped.decode(\"utf-8-sig\").replace(u\"\\ufffd\", \"?\")\n",
    "    except:\n",
    "        bom_removed = souped\n",
    "    if rt_pattern.match(bom_removed):\n",
    "        rt_stripped=re.sub(pat3,'',bom_removed)\n",
    "        stripped = re.sub(combined_pat, '', rt_stripped)\n",
    "    else:\n",
    "        stripped = re.sub(combined_pat, '', bom_removed)\n",
    "        stripped = re.sub(www_pat, '', stripped)\n",
    "    lower_case = stripped.lower()\n",
    "    neg_handled = neg_pattern.sub(lambda x: negations_dic[x.group()], lower_case)\n",
    "    letters_only = re.sub(\"[^a-zA-Z]\", \" \", neg_handled)\n",
    "    #tokenize and join together to remove unneccessary white spaces\n",
    "    words = [x for x  in tok.tokenize(letters_only) if len(x) > 1]\n",
    "    return (\" \".join(words)).strip()"
   ]
  },
  {
   "cell_type": "code",
   "execution_count": 4,
   "metadata": {},
   "outputs": [
    {
     "name": "stdout",
     "output_type": "stream",
     "text": [
      "Cleaning and parsing the tweets...\n",
      "\n",
      "Tweets 525 of 5250 has been processed\n",
      "Tweets 1050 of 5250 has been processed\n",
      "Tweets 1575 of 5250 has been processed\n",
      "Tweets 2100 of 5250 has been processed\n",
      "Tweets 2625 of 5250 has been processed\n",
      "Tweets 3150 of 5250 has been processed\n",
      "Tweets 3675 of 5250 has been processed\n",
      "Tweets 4200 of 5250 has been processed\n",
      "Tweets 4725 of 5250 has been processed\n",
      "Tweets 5250 of 5250 has been processed\n"
     ]
    }
   ],
   "source": [
    "x = len(tweets.index)\n",
    "nums = [0,x]\n",
    "print(\"Cleaning and parsing the tweets...\\n\")\n",
    "clean_tweet_texts = []\n",
    "for i in range(nums[0],nums[1]):\n",
    "    if( (i+1)%525 == 0 ):\n",
    "        print(\"Tweets %d of %d has been processed\" % ( i+1, nums[1] ))                                                                    \n",
    "    clean_tweet_texts.append(tweet_cleaner_updated(tweets['text'][i]))\n",
    "    clean_df = pd.DataFrame(clean_tweet_texts,columns=['text'])"
   ]
  },
  {
   "cell_type": "code",
   "execution_count": 5,
   "metadata": {},
   "outputs": [],
   "source": [
    "clean_df['target'] = tweets.sentiment"
   ]
  },
  {
   "cell_type": "code",
   "execution_count": null,
   "metadata": {},
   "outputs": [],
   "source": [
    "clean_df.head()"
   ]
  },
  {
   "cell_type": "code",
   "execution_count": 6,
   "metadata": {},
   "outputs": [],
   "source": [
    "x = clean_df.text\n",
    "y = clean_df.target\n",
    "SEED = 5\n",
    "x_train, x_validation_and_test, y_train, y_validation_and_test = train_test_split(x, y, test_size=.3, random_state=SEED)"
   ]
  },
  {
   "cell_type": "code",
   "execution_count": 7,
   "metadata": {},
   "outputs": [],
   "source": [
    "x_validation, x_test, y_validation, y_test = train_test_split(x_validation_and_test, y_validation_and_test, test_size=.5, random_state=SEED)"
   ]
  },
  {
   "cell_type": "code",
   "execution_count": 8,
   "metadata": {},
   "outputs": [
    {
     "name": "stderr",
     "output_type": "stream",
     "text": [
      "C:\\Users\\Asus FX504\\.conda\\envs\\tensor\\lib\\site-packages\\ipykernel_launcher.py:5: DeprecationWarning: Call to deprecated `LabeledSentence` (Class will be removed in 4.0.0, use TaggedDocument instead).\n",
      "  \"\"\"\n"
     ]
    }
   ],
   "source": [
    "def labelize_tweets_ug(tweets,label):\n",
    "    result = []\n",
    "    prefix = label\n",
    "    for i, t in zip(tweets.index, tweets):\n",
    "        result.append(LabeledSentence(t.split(), [prefix + '_%s' % i]))\n",
    "    return result\n",
    "all_x = pd.concat([x_train,x_validation,x_test])\n",
    "all_x_w2v = labelize_tweets_ug(all_x, 'all')"
   ]
  },
  {
   "cell_type": "code",
   "execution_count": 9,
   "metadata": {},
   "outputs": [
    {
     "name": "stderr",
     "output_type": "stream",
     "text": [
      "C:\\Users\\Asus FX504\\.conda\\envs\\tensor\\lib\\site-packages\\gensim\\models\\doc2vec.py:574: UserWarning: The parameter `size` is deprecated, will be removed in 4.0.0, use `vector_size` instead.\n",
      "  warnings.warn(\"The parameter `size` is deprecated, will be removed in 4.0.0, use `vector_size` instead.\")\n",
      "100%|█████████████████████████████████████████████████████████████████████████| 5250/5250 [00:00<00:00, 1643904.14it/s]\n",
      "100%|█████████████████████████████████████████████████████████████████████████| 5250/5250 [00:00<00:00, 1650187.05it/s]\n",
      "WARNING: Logging before flag parsing goes to stderr.\n",
      "W0818 07:31:11.659564 15064 base_any2vec.py:1386] under 10 jobs per worker: consider setting a smaller `batch_words' for smoother alpha decay\n",
      "100%|█████████████████████████████████████████████████████████████████████████| 5250/5250 [00:00<00:00, 2642200.14it/s]\n",
      "W0818 07:31:11.829520 15064 base_any2vec.py:1386] under 10 jobs per worker: consider setting a smaller `batch_words' for smoother alpha decay\n",
      "100%|█████████████████████████████████████████████████████████████████████████| 5250/5250 [00:00<00:00, 1927866.92it/s]\n",
      "W0818 07:31:11.999475 15064 base_any2vec.py:1386] under 10 jobs per worker: consider setting a smaller `batch_words' for smoother alpha decay\n",
      "100%|█████████████████████████████████████████████████████████████████████████| 5250/5250 [00:00<00:00, 5262929.25it/s]\n",
      "W0818 07:31:12.177266 15064 base_any2vec.py:1386] under 10 jobs per worker: consider setting a smaller `batch_words' for smoother alpha decay\n",
      "100%|█████████████████████████████████████████████████████████████████████████| 5250/5250 [00:00<00:00, 5249128.96it/s]\n",
      "W0818 07:31:12.349336 15064 base_any2vec.py:1386] under 10 jobs per worker: consider setting a smaller `batch_words' for smoother alpha decay\n",
      "100%|█████████████████████████████████████████████████████████████████████████| 5250/5250 [00:00<00:00, 2615523.93it/s]\n",
      "W0818 07:31:12.524546 15064 base_any2vec.py:1386] under 10 jobs per worker: consider setting a smaller `batch_words' for smoother alpha decay\n",
      "100%|█████████████████████████████████████████████████████████████████████████| 5250/5250 [00:00<00:00, 5261671.68it/s]\n",
      "W0818 07:31:12.701993 15064 base_any2vec.py:1386] under 10 jobs per worker: consider setting a smaller `batch_words' for smoother alpha decay\n",
      "100%|█████████████████████████████████████████████████████████████████████████| 5250/5250 [00:00<00:00, 2632723.10it/s]\n",
      "W0818 07:31:12.883736 15064 base_any2vec.py:1386] under 10 jobs per worker: consider setting a smaller `batch_words' for smoother alpha decay\n",
      "100%|█████████████████████████████████████████████████████████████████████████| 5250/5250 [00:00<00:00, 1305978.06it/s]\n",
      "W0818 07:31:13.059583 15064 base_any2vec.py:1386] under 10 jobs per worker: consider setting a smaller `batch_words' for smoother alpha decay\n",
      "100%|█████████████████████████████████████████████████████████████████████████| 5250/5250 [00:00<00:00, 2632093.71it/s]\n",
      "W0818 07:31:13.230127 15064 base_any2vec.py:1386] under 10 jobs per worker: consider setting a smaller `batch_words' for smoother alpha decay\n",
      "100%|█████████████████████████████████████████████████████████████████████████| 5250/5250 [00:00<00:00, 5262929.25it/s]\n",
      "W0818 07:31:13.399534 15064 base_any2vec.py:1386] under 10 jobs per worker: consider setting a smaller `batch_words' for smoother alpha decay\n",
      "100%|█████████████████████████████████████████████████████████████████████████| 5250/5250 [00:00<00:00, 2633037.91it/s]\n",
      "W0818 07:31:13.559448 15064 base_any2vec.py:1386] under 10 jobs per worker: consider setting a smaller `batch_words' for smoother alpha decay\n",
      "100%|█████████████████████████████████████████████████████████████████████████| 5250/5250 [00:00<00:00, 1017470.47it/s]\n",
      "W0818 07:31:13.745738 15064 base_any2vec.py:1386] under 10 jobs per worker: consider setting a smaller `batch_words' for smoother alpha decay\n",
      "100%|█████████████████████████████████████████████████████████████████████████| 5250/5250 [00:00<00:00, 2630835.84it/s]\n",
      "W0818 07:31:13.909679 15064 base_any2vec.py:1386] under 10 jobs per worker: consider setting a smaller `batch_words' for smoother alpha decay\n",
      "100%|█████████████████████████████████████████████████████████████████████████| 5250/5250 [00:00<00:00, 1053089.24it/s]\n",
      "W0818 07:31:14.089532 15064 base_any2vec.py:1386] under 10 jobs per worker: consider setting a smaller `batch_words' for smoother alpha decay\n",
      "100%|█████████████████████████████████████████████████████████████████████████| 5250/5250 [00:00<00:00, 2633667.74it/s]\n",
      "W0818 07:31:14.249486 15064 base_any2vec.py:1386] under 10 jobs per worker: consider setting a smaller `batch_words' for smoother alpha decay\n",
      "100%|█████████████████████████████████████████████████████████████████████████| 5250/5250 [00:00<00:00, 1736189.86it/s]\n",
      "W0818 07:31:14.419685 15064 base_any2vec.py:1386] under 10 jobs per worker: consider setting a smaller `batch_words' for smoother alpha decay\n",
      "100%|█████████████████████████████████████████████████████████████████████████| 5250/5250 [00:00<00:00, 1305203.96it/s]\n",
      "W0818 07:31:14.599561 15064 base_any2vec.py:1386] under 10 jobs per worker: consider setting a smaller `batch_words' for smoother alpha decay\n",
      "100%|█████████████████████████████████████████████████████████████████████████| 5250/5250 [00:00<00:00, 2631464.63it/s]\n",
      "W0818 07:31:14.799718 15064 base_any2vec.py:1386] under 10 jobs per worker: consider setting a smaller `batch_words' for smoother alpha decay\n",
      "100%|█████████████████████████████████████████████████████████████████████████| 5250/5250 [00:00<00:00, 1735368.90it/s]\n",
      "W0818 07:31:14.974317 15064 base_any2vec.py:1386] under 10 jobs per worker: consider setting a smaller `batch_words' for smoother alpha decay\n",
      "100%|█████████████████████████████████████████████████████████████████████████| 5250/5250 [00:00<00:00, 2632093.71it/s]\n",
      "W0818 07:31:15.129552 15064 base_any2vec.py:1386] under 10 jobs per worker: consider setting a smaller `batch_words' for smoother alpha decay\n",
      "100%|█████████████████████████████████████████████████████████████████████████| 5250/5250 [00:00<00:00, 2633352.79it/s]\n",
      "W0818 07:31:15.309700 15064 base_any2vec.py:1386] under 10 jobs per worker: consider setting a smaller `batch_words' for smoother alpha decay\n",
      "100%|█████████████████████████████████████████████████████████████████████████| 5250/5250 [00:00<00:00, 2633352.79it/s]\n",
      "W0818 07:31:15.508400 15064 base_any2vec.py:1386] under 10 jobs per worker: consider setting a smaller `batch_words' for smoother alpha decay\n",
      "100%|█████████████████████████████████████████████████████████████████████████| 5250/5250 [00:00<00:00, 1746517.77it/s]\n",
      "W0818 07:31:15.679506 15064 base_any2vec.py:1386] under 10 jobs per worker: consider setting a smaller `batch_words' for smoother alpha decay\n",
      "100%|██████████████████████████████████████████████████████████████████████████| 5250/5250 [00:00<00:00, 686262.22it/s]\n",
      "W0818 07:31:15.849571 15064 base_any2vec.py:1386] under 10 jobs per worker: consider setting a smaller `batch_words' for smoother alpha decay\n",
      "100%|██████████████████████████████████████████████████████████████████████████| 5250/5250 [00:00<00:00, 993059.26it/s]\n",
      "W0818 07:31:16.019844 15064 base_any2vec.py:1386] under 10 jobs per worker: consider setting a smaller `batch_words' for smoother alpha decay\n",
      "100%|█████████████████████████████████████████████████████████████████████████| 5250/5250 [00:00<00:00, 5264187.43it/s]\n",
      "W0818 07:31:16.209746 15064 base_any2vec.py:1386] under 10 jobs per worker: consider setting a smaller `batch_words' for smoother alpha decay\n",
      "100%|█████████████████████████████████████████████████████████████████████████| 5250/5250 [00:00<00:00, 5105517.27it/s]\n",
      "W0818 07:31:16.374684 15064 base_any2vec.py:1386] under 10 jobs per worker: consider setting a smaller `batch_words' for smoother alpha decay\n",
      "100%|█████████████████████████████████████████████████████████████████████████| 5250/5250 [00:00<00:00, 5146084.60it/s]\n",
      "W0818 07:31:16.539460 15064 base_any2vec.py:1386] under 10 jobs per worker: consider setting a smaller `batch_words' for smoother alpha decay\n",
      "100%|█████████████████████████████████████████████████████████████████████████| 5250/5250 [00:00<00:00, 2631464.63it/s]\n"
     ]
    },
    {
     "name": "stderr",
     "output_type": "stream",
     "text": [
      "W0818 07:31:16.709492 15064 base_any2vec.py:1386] under 10 jobs per worker: consider setting a smaller `batch_words' for smoother alpha decay\n",
      "C:\\Users\\Asus FX504\\.conda\\envs\\tensor\\lib\\site-packages\\sklearn\\linear_model\\logistic.py:432: FutureWarning: Default solver will be changed to 'lbfgs' in 0.22. Specify a solver to silence this warning.\n",
      "  FutureWarning)\n",
      "C:\\Users\\Asus FX504\\.conda\\envs\\tensor\\lib\\site-packages\\sklearn\\linear_model\\logistic.py:469: FutureWarning: Default multi_class will be changed to 'auto' in 0.22. Specify the multi_class option to silence this warning.\n",
      "  \"this warning.\", FutureWarning)\n"
     ]
    },
    {
     "data": {
      "text/plain": [
       "0.6696315120711563"
      ]
     },
     "execution_count": 9,
     "metadata": {},
     "output_type": "execute_result"
    }
   ],
   "source": [
    "#Pure Distributed Bag of Words\n",
    "cores = multiprocessing.cpu_count()\n",
    "model_ug_dbow = Doc2Vec(dm=0, size=100, negative=5, min_count=2, workers=cores, alpha=0.065, min_alpha=0.065)\n",
    "model_ug_dbow.build_vocab([x for x in tqdm(all_x_w2v)])\n",
    "\n",
    "for epoch in range(30):\n",
    "    model_ug_dbow.train(utils.shuffle([x for x in tqdm(all_x_w2v)]), total_examples=len(all_x_w2v), epochs=1)\n",
    "    model_ug_dbow.alpha -= 0.002\n",
    "    model_ug_dbow.min_alpha = model_ug_dbow.alpha\n",
    "    \n",
    "def get_vectors(model, corpus, size):\n",
    "    vecs = np.zeros((len(corpus), size))\n",
    "    n = 0\n",
    "    for i in corpus.index:\n",
    "        prefix = 'all_' + str(i)\n",
    "        vecs[n] = model.docvecs[prefix]\n",
    "        n += 1\n",
    "    return vecs\n",
    "  \n",
    "train_vecs_dbow = get_vectors(model_ug_dbow, x_train, 100)\n",
    "validation_vecs_dbow = get_vectors(model_ug_dbow, x_validation, 100)\n",
    "\n",
    "clf = LogisticRegression()\n",
    "clf.fit(train_vecs_dbow, y_train)\n",
    "clf.score(validation_vecs_dbow, y_validation)"
   ]
  },
  {
   "cell_type": "code",
   "execution_count": 10,
   "metadata": {},
   "outputs": [
    {
     "name": "stderr",
     "output_type": "stream",
     "text": [
      "C:\\Users\\Asus FX504\\.conda\\envs\\tensor\\lib\\site-packages\\gensim\\models\\doc2vec.py:574: UserWarning: The parameter `size` is deprecated, will be removed in 4.0.0, use `vector_size` instead.\n",
      "  warnings.warn(\"The parameter `size` is deprecated, will be removed in 4.0.0, use `vector_size` instead.\")\n",
      "100%|█████████████████████████████████████████████████████████████████████████| 5250/5250 [00:00<00:00, 1052938.17it/s]\n",
      "100%|██████████████████████████████████████████████████████████████████████████████████████| 5250/5250 [00:00<?, ?it/s]\n",
      "W0818 07:31:32.743225 15064 base_any2vec.py:1386] under 10 jobs per worker: consider setting a smaller `batch_words' for smoother alpha decay\n",
      "100%|█████████████████████████████████████████████████████████████████████████| 5250/5250 [00:00<00:00, 2629265.19it/s]\n",
      "W0818 07:31:33.036234 15064 base_any2vec.py:1386] under 10 jobs per worker: consider setting a smaller `batch_words' for smoother alpha decay\n",
      "100%|█████████████████████████████████████████████████████████████████████████| 5250/5250 [00:00<00:00, 5257902.58it/s]\n",
      "W0818 07:31:33.312040 15064 base_any2vec.py:1386] under 10 jobs per worker: consider setting a smaller `batch_words' for smoother alpha decay\n",
      "100%|█████████████████████████████████████████████████████████████████████████| 5250/5250 [00:00<00:00, 2631779.13it/s]\n",
      "W0818 07:31:33.620216 15064 base_any2vec.py:1386] under 10 jobs per worker: consider setting a smaller `batch_words' for smoother alpha decay\n",
      "100%|█████████████████████████████████████████████████████████████████████████| 5250/5250 [00:00<00:00, 2633352.79it/s]\n",
      "W0818 07:31:33.899587 15064 base_any2vec.py:1386] under 10 jobs per worker: consider setting a smaller `batch_words' for smoother alpha decay\n",
      "100%|█████████████████████████████████████████████████████████████████████████| 5250/5250 [00:00<00:00, 3483641.20it/s]\n",
      "W0818 07:31:34.189668 15064 base_any2vec.py:1386] under 10 jobs per worker: consider setting a smaller `batch_words' for smoother alpha decay\n",
      "100%|█████████████████████████████████████████████████████████████████████████| 5250/5250 [00:00<00:00, 5259158.35it/s]\n",
      "W0818 07:31:34.479655 15064 base_any2vec.py:1386] under 10 jobs per worker: consider setting a smaller `batch_words' for smoother alpha decay\n",
      "100%|█████████████████████████████████████████████████████████████████████████| 5250/5250 [00:00<00:00, 1755428.57it/s]\n",
      "W0818 07:31:34.777065 15064 base_any2vec.py:1386] under 10 jobs per worker: consider setting a smaller `batch_words' for smoother alpha decay\n",
      "100%|█████████████████████████████████████████████████████████████████████████| 5250/5250 [00:00<00:00, 2631464.63it/s]\n",
      "W0818 07:31:35.079561 15064 base_any2vec.py:1386] under 10 jobs per worker: consider setting a smaller `batch_words' for smoother alpha decay\n",
      "100%|█████████████████████████████████████████████████████████████████████████| 5250/5250 [00:00<00:00, 1462546.23it/s]\n",
      "W0818 07:31:35.369666 15064 base_any2vec.py:1386] under 10 jobs per worker: consider setting a smaller `batch_words' for smoother alpha decay\n",
      "100%|█████████████████████████████████████████████████████████████████████████| 5250/5250 [00:00<00:00, 5264187.43it/s]\n",
      "W0818 07:31:35.639771 15064 base_any2vec.py:1386] under 10 jobs per worker: consider setting a smaller `batch_words' for smoother alpha decay\n",
      "100%|█████████████████████████████████████████████████████████████████████████| 5250/5250 [00:00<00:00, 1804630.06it/s]\n",
      "W0818 07:31:35.939451 15064 base_any2vec.py:1386] under 10 jobs per worker: consider setting a smaller `batch_words' for smoother alpha decay\n",
      "100%|█████████████████████████████████████████████████████████████████████████| 5250/5250 [00:00<00:00, 1755008.85it/s]\n",
      "W0818 07:31:36.219470 15064 base_any2vec.py:1386] under 10 jobs per worker: consider setting a smaller `batch_words' for smoother alpha decay\n",
      "100%|█████████████████████████████████████████████████████████████████████████| 5250/5250 [00:00<00:00, 1316440.25it/s]\n",
      "W0818 07:31:36.459760 15064 base_any2vec.py:1386] under 10 jobs per worker: consider setting a smaller `batch_words' for smoother alpha decay\n",
      "100%|█████████████████████████████████████████████████████████████████████████| 5250/5250 [00:00<00:00, 5368136.52it/s]\n",
      "W0818 07:31:36.739776 15064 base_any2vec.py:1386] under 10 jobs per worker: consider setting a smaller `batch_words' for smoother alpha decay\n",
      "100%|█████████████████████████████████████████████████████████████████████████| 5250/5250 [00:00<00:00, 2633352.79it/s]\n",
      "W0818 07:31:37.019664 15064 base_any2vec.py:1386] under 10 jobs per worker: consider setting a smaller `batch_words' for smoother alpha decay\n",
      "100%|█████████████████████████████████████████████████████████████████████████| 5250/5250 [00:00<00:00, 5315012.31it/s]\n",
      "W0818 07:31:37.279463 15064 base_any2vec.py:1386] under 10 jobs per worker: consider setting a smaller `batch_words' for smoother alpha decay\n",
      "100%|█████████████████████████████████████████████████████████████████████████| 5250/5250 [00:00<00:00, 5260414.72it/s]\n",
      "W0818 07:31:37.529740 15064 base_any2vec.py:1386] under 10 jobs per worker: consider setting a smaller `batch_words' for smoother alpha decay\n",
      "100%|█████████████████████████████████████████████████████████████████████████| 5250/5250 [00:00<00:00, 2567342.43it/s]\n",
      "W0818 07:31:37.827609 15064 base_any2vec.py:1386] under 10 jobs per worker: consider setting a smaller `batch_words' for smoother alpha decay\n",
      "100%|█████████████████████████████████████████████████████████████████████████| 5250/5250 [00:00<00:00, 1316597.67it/s]\n",
      "W0818 07:31:38.110833 15064 base_any2vec.py:1386] under 10 jobs per worker: consider setting a smaller `batch_words' for smoother alpha decay\n",
      "100%|█████████████████████████████████████████████████████████████████████████| 5250/5250 [00:00<00:00, 1045936.26it/s]\n",
      "W0818 07:31:38.431678 15064 base_any2vec.py:1386] under 10 jobs per worker: consider setting a smaller `batch_words' for smoother alpha decay\n",
      "100%|█████████████████████████████████████████████████████████████████████████| 5250/5250 [00:00<00:00, 2632093.71it/s]\n",
      "W0818 07:31:38.730918 15064 base_any2vec.py:1386] under 10 jobs per worker: consider setting a smaller `batch_words' for smoother alpha decay\n",
      "100%|█████████████████████████████████████████████████████████████████████████| 5250/5250 [00:00<00:00, 5265446.20it/s]\n",
      "W0818 07:31:39.096426 15064 base_any2vec.py:1386] under 10 jobs per worker: consider setting a smaller `batch_words' for smoother alpha decay\n",
      "100%|█████████████████████████████████████████████████████████████████████████| 5250/5250 [00:00<00:00, 2630835.84it/s]\n",
      "W0818 07:31:39.339792 15064 base_any2vec.py:1386] under 10 jobs per worker: consider setting a smaller `batch_words' for smoother alpha decay\n",
      "100%|██████████████████████████████████████████████████████████████████████████| 5250/5250 [00:00<00:00, 889413.36it/s]\n",
      "W0818 07:31:39.609825 15064 base_any2vec.py:1386] under 10 jobs per worker: consider setting a smaller `batch_words' for smoother alpha decay\n",
      "100%|█████████████████████████████████████████████████████████████████████████| 5250/5250 [00:00<00:00, 5266705.57it/s]\n",
      "W0818 07:31:39.919722 15064 base_any2vec.py:1386] under 10 jobs per worker: consider setting a smaller `batch_words' for smoother alpha decay\n",
      "100%|█████████████████████████████████████████████████████████████████████████| 5250/5250 [00:00<00:00, 5267965.55it/s]\n",
      "W0818 07:31:40.199817 15064 base_any2vec.py:1386] under 10 jobs per worker: consider setting a smaller `batch_words' for smoother alpha decay\n",
      "100%|█████████████████████████████████████████████████████████████████████████| 5250/5250 [00:00<00:00, 1754729.14it/s]\n",
      "W0818 07:31:40.479591 15064 base_any2vec.py:1386] under 10 jobs per worker: consider setting a smaller `batch_words' for smoother alpha decay\n",
      "100%|█████████████████████████████████████████████████████████████████████████| 5250/5250 [00:00<00:00, 2633037.91it/s]\n",
      "W0818 07:31:40.819499 15064 base_any2vec.py:1386] under 10 jobs per worker: consider setting a smaller `batch_words' for smoother alpha decay\n",
      "100%|██████████████████████████████████████████████████████████████████████████| 5250/5250 [00:00<00:00, 526267.77it/s]\n"
     ]
    },
    {
     "name": "stderr",
     "output_type": "stream",
     "text": [
      "W0818 07:31:41.106801 15064 base_any2vec.py:1386] under 10 jobs per worker: consider setting a smaller `batch_words' for smoother alpha decay\n",
      "C:\\Users\\Asus FX504\\.conda\\envs\\tensor\\lib\\site-packages\\sklearn\\linear_model\\logistic.py:432: FutureWarning: Default solver will be changed to 'lbfgs' in 0.22. Specify a solver to silence this warning.\n",
      "  FutureWarning)\n",
      "C:\\Users\\Asus FX504\\.conda\\envs\\tensor\\lib\\site-packages\\sklearn\\linear_model\\logistic.py:469: FutureWarning: Default multi_class will be changed to 'auto' in 0.22. Specify the multi_class option to silence this warning.\n",
      "  \"this warning.\", FutureWarning)\n"
     ]
    },
    {
     "data": {
      "text/plain": [
       "0.6467598475222364"
      ]
     },
     "execution_count": 10,
     "metadata": {},
     "output_type": "execute_result"
    }
   ],
   "source": [
    "#Pure Distributed Memory Mean\n",
    "cores = multiprocessing.cpu_count()\n",
    "model_ug_dmm = Doc2Vec(dm=1, dm_mean=1, size=100, window=4, negative=5, min_count=2, workers=cores, alpha=0.065, min_alpha=0.065)\n",
    "model_ug_dmm.build_vocab([x for x in tqdm(all_x_w2v)])\n",
    "\n",
    "for epoch in range(30):\n",
    "    model_ug_dmm.train(utils.shuffle([x for x in tqdm(all_x_w2v)]), total_examples=len(all_x_w2v), epochs=1)\n",
    "    model_ug_dmm.alpha -= 0.002\n",
    "    model_ug_dmm.min_alpha = model_ug_dmm.alpha\n",
    "    \n",
    "train_vecs_dmm = get_vectors(model_ug_dmm, x_train, 100)\n",
    "validation_vecs_dmm = get_vectors(model_ug_dmm, x_validation, 100)\n",
    "\n",
    "clf = LogisticRegression()\n",
    "clf.fit(train_vecs_dmm, y_train)\n",
    "clf.score(validation_vecs_dmm, y_validation)"
   ]
  },
  {
   "cell_type": "code",
   "execution_count": 11,
   "metadata": {},
   "outputs": [
    {
     "name": "stderr",
     "output_type": "stream",
     "text": [
      "C:\\Users\\Asus FX504\\.conda\\envs\\tensor\\lib\\site-packages\\sklearn\\linear_model\\logistic.py:432: FutureWarning: Default solver will be changed to 'lbfgs' in 0.22. Specify a solver to silence this warning.\n",
      "  FutureWarning)\n",
      "C:\\Users\\Asus FX504\\.conda\\envs\\tensor\\lib\\site-packages\\sklearn\\linear_model\\logistic.py:469: FutureWarning: Default multi_class will be changed to 'auto' in 0.22. Specify the multi_class option to silence this warning.\n",
      "  \"this warning.\", FutureWarning)\n"
     ]
    },
    {
     "data": {
      "text/plain": [
       "0.6696315120711563"
      ]
     },
     "execution_count": 11,
     "metadata": {},
     "output_type": "execute_result"
    }
   ],
   "source": [
    "#DBOW+DMM\n",
    "def get_concat_vectors(model1,model2, corpus, size):\n",
    "    vecs = np.zeros((len(corpus), size))\n",
    "    n = 0\n",
    "    for i in corpus.index:\n",
    "        prefix = 'all_' + str(i)\n",
    "        vecs[n] = np.append(model1.docvecs[prefix],model2.docvecs[prefix])\n",
    "        n += 1\n",
    "    return vecs\n",
    "\n",
    "train_vecs_dbow_dmm = get_concat_vectors(model_ug_dbow,model_ug_dmm, x_train, 200)\n",
    "validation_vecs_dbow_dmm = get_concat_vectors(model_ug_dbow,model_ug_dmm, x_validation, 200)\n",
    "\n",
    "clf = LogisticRegression()\n",
    "clf.fit(train_vecs_dbow_dmm, y_train)\n",
    "clf.score(validation_vecs_dbow_dmm, y_validation)"
   ]
  },
  {
   "cell_type": "code",
   "execution_count": 12,
   "metadata": {},
   "outputs": [
    {
     "name": "stderr",
     "output_type": "stream",
     "text": [
      "100%|█████████████████████████████████████████████████████████████████████████| 5250/5250 [00:00<00:00, 1316046.86it/s]\n"
     ]
    }
   ],
   "source": [
    "#Separate Word2Vec\n",
    "cores = multiprocessing.cpu_count()\n",
    "model_ug_cbow = Word2Vec(sg=0, size=100, negative=5, window=2, min_count=2,\n",
    "                         workers=cores, alpha=0.065, min_alpha=0.065)\n",
    "model_ug_cbow.build_vocab([x.words for x in tqdm(all_x_w2v)])"
   ]
  },
  {
   "cell_type": "code",
   "execution_count": 13,
   "metadata": {},
   "outputs": [
    {
     "name": "stderr",
     "output_type": "stream",
     "text": [
      "100%|█████████████████████████████████████████████████████████████████████████| 5250/5250 [00:00<00:00, 1051279.29it/s]\n",
      "W0818 07:31:53.733140 15064 base_any2vec.py:1386] under 10 jobs per worker: consider setting a smaller `batch_words' for smoother alpha decay\n",
      "100%|█████████████████████████████████████████████████████████████████████████| 5250/5250 [00:00<00:00, 2570939.40it/s]\n",
      "W0818 07:31:53.778019 15064 base_any2vec.py:1386] under 10 jobs per worker: consider setting a smaller `batch_words' for smoother alpha decay\n",
      "100%|█████████████████████████████████████████████████████████████████████████| 5250/5250 [00:00<00:00, 2631779.13it/s]\n",
      "W0818 07:31:53.822898 15064 base_any2vec.py:1386] under 10 jobs per worker: consider setting a smaller `batch_words' for smoother alpha decay\n",
      "100%|█████████████████████████████████████████████████████████████████████████| 5250/5250 [00:00<00:00, 2589076.54it/s]\n",
      "W0818 07:31:53.871802 15064 base_any2vec.py:1386] under 10 jobs per worker: consider setting a smaller `batch_words' for smoother alpha decay\n",
      "100%|█████████████████████████████████████████████████████████████████████████| 5250/5250 [00:00<00:00, 2605928.52it/s]\n",
      "W0818 07:31:53.914685 15064 base_any2vec.py:1386] under 10 jobs per worker: consider setting a smaller `batch_words' for smoother alpha decay\n",
      "100%|█████████████████████████████████████████████████████████████████████████| 5250/5250 [00:00<00:00, 2632093.71it/s]\n",
      "W0818 07:31:53.960530 15064 base_any2vec.py:1386] under 10 jobs per worker: consider setting a smaller `batch_words' for smoother alpha decay\n",
      "100%|█████████████████████████████████████████████████████████████████████████| 5250/5250 [00:00<00:00, 1754589.32it/s]\n",
      "W0818 07:31:54.003448 15064 base_any2vec.py:1386] under 10 jobs per worker: consider setting a smaller `batch_words' for smoother alpha decay\n",
      "100%|█████████████████████████████████████████████████████████████████████████| 5250/5250 [00:00<00:00, 2631779.13it/s]\n",
      "W0818 07:31:54.049293 15064 base_any2vec.py:1386] under 10 jobs per worker: consider setting a smaller `batch_words' for smoother alpha decay\n",
      "100%|█████████████████████████████████████████████████████████████████████████| 5250/5250 [00:00<00:00, 2631464.63it/s]\n",
      "W0818 07:31:54.095710 15064 base_any2vec.py:1386] under 10 jobs per worker: consider setting a smaller `batch_words' for smoother alpha decay\n",
      "100%|█████████████████████████████████████████████████████████████████████████| 5250/5250 [00:00<00:00, 2630835.84it/s]\n",
      "W0818 07:31:54.139559 15064 base_any2vec.py:1386] under 10 jobs per worker: consider setting a smaller `batch_words' for smoother alpha decay\n",
      "100%|█████████████████████████████████████████████████████████████████████████| 5250/5250 [00:00<00:00, 2632723.10it/s]\n",
      "W0818 07:31:54.191441 15064 base_any2vec.py:1386] under 10 jobs per worker: consider setting a smaller `batch_words' for smoother alpha decay\n",
      "100%|█████████████████████████████████████████████████████████████████████████| 5250/5250 [00:00<00:00, 2631464.63it/s]\n",
      "W0818 07:31:54.235334 15064 base_any2vec.py:1386] under 10 jobs per worker: consider setting a smaller `batch_words' for smoother alpha decay\n",
      "100%|█████████████████████████████████████████████████████████████████████████| 5250/5250 [00:00<00:00, 1753192.36it/s]\n",
      "W0818 07:31:54.283824 15064 base_any2vec.py:1386] under 10 jobs per worker: consider setting a smaller `batch_words' for smoother alpha decay\n",
      "100%|█████████████████████████████████████████████████████████████████████████| 5250/5250 [00:00<00:00, 2633037.91it/s]\n",
      "W0818 07:31:54.332694 15064 base_any2vec.py:1386] under 10 jobs per worker: consider setting a smaller `batch_words' for smoother alpha decay\n",
      "100%|█████████████████████████████████████████████████████████████████████████| 5250/5250 [00:00<00:00, 2633667.74it/s]\n",
      "W0818 07:31:54.377607 15064 base_any2vec.py:1386] under 10 jobs per worker: consider setting a smaller `batch_words' for smoother alpha decay\n",
      "100%|█████████████████████████████████████████████████████████████████████████| 5250/5250 [00:00<00:00, 2630835.84it/s]\n",
      "W0818 07:31:54.419492 15064 base_any2vec.py:1386] under 10 jobs per worker: consider setting a smaller `batch_words' for smoother alpha decay\n",
      "100%|█████████████████████████████████████████████████████████████████████████| 5250/5250 [00:00<00:00, 2632723.10it/s]\n",
      "W0818 07:31:54.467333 15064 base_any2vec.py:1386] under 10 jobs per worker: consider setting a smaller `batch_words' for smoother alpha decay\n",
      "100%|█████████████████████████████████████████████████████████████████████████| 5250/5250 [00:00<00:00, 2642517.22it/s]\n",
      "W0818 07:31:54.536695 15064 base_any2vec.py:1386] under 10 jobs per worker: consider setting a smaller `batch_words' for smoother alpha decay\n",
      "100%|█████████████████████████████████████████████████████████████████████████| 5250/5250 [00:00<00:00, 1053492.30it/s]\n",
      "W0818 07:31:54.606513 15064 base_any2vec.py:1386] under 10 jobs per worker: consider setting a smaller `batch_words' for smoother alpha decay\n",
      "100%|█████████████████████████████████████████████████████████████████████████| 5250/5250 [00:00<00:00, 2633037.91it/s]\n",
      "W0818 07:31:54.649398 15064 base_any2vec.py:1386] under 10 jobs per worker: consider setting a smaller `batch_words' for smoother alpha decay\n",
      "100%|█████████████████████████████████████████████████████████████████████████| 5250/5250 [00:00<00:00, 2632093.71it/s]\n",
      "W0818 07:31:54.694786 15064 base_any2vec.py:1386] under 10 jobs per worker: consider setting a smaller `batch_words' for smoother alpha decay\n",
      "100%|█████████████████████████████████████████████████████████████████████████| 5250/5250 [00:00<00:00, 2631779.13it/s]\n",
      "W0818 07:31:54.745650 15064 base_any2vec.py:1386] under 10 jobs per worker: consider setting a smaller `batch_words' for smoother alpha decay\n",
      "100%|█████████████████████████████████████████████████████████████████████████| 5250/5250 [00:00<00:00, 1755428.57it/s]\n",
      "W0818 07:31:54.791037 15064 base_any2vec.py:1386] under 10 jobs per worker: consider setting a smaller `batch_words' for smoother alpha decay\n",
      "100%|█████████████████████████████████████████████████████████████████████████| 5250/5250 [00:00<00:00, 2633352.79it/s]\n",
      "W0818 07:31:54.837911 15064 base_any2vec.py:1386] under 10 jobs per worker: consider setting a smaller `batch_words' for smoother alpha decay\n",
      "100%|█████████████████████████████████████████████████████████████████████████| 5250/5250 [00:00<00:00, 5266705.57it/s]\n",
      "W0818 07:31:54.879799 15064 base_any2vec.py:1386] under 10 jobs per worker: consider setting a smaller `batch_words' for smoother alpha decay\n",
      "100%|█████████████████████████████████████████████████████████████████████████| 5250/5250 [00:00<00:00, 2632723.10it/s]\n",
      "W0818 07:31:54.927671 15064 base_any2vec.py:1386] under 10 jobs per worker: consider setting a smaller `batch_words' for smoother alpha decay\n",
      "100%|█████████████████████████████████████████████████████████████████████████| 5250/5250 [00:00<00:00, 2632723.10it/s]\n",
      "W0818 07:31:54.973549 15064 base_any2vec.py:1386] under 10 jobs per worker: consider setting a smaller `batch_words' for smoother alpha decay\n",
      "100%|█████████████████████████████████████████████████████████████████████████| 5250/5250 [00:00<00:00, 2631464.63it/s]\n",
      "W0818 07:31:55.016434 15064 base_any2vec.py:1386] under 10 jobs per worker: consider setting a smaller `batch_words' for smoother alpha decay\n",
      "100%|█████████████████████████████████████████████████████████████████████████| 5250/5250 [00:00<00:00, 2630835.84it/s]\n",
      "W0818 07:31:55.062311 15064 base_any2vec.py:1386] under 10 jobs per worker: consider setting a smaller `batch_words' for smoother alpha decay\n",
      "100%|█████████████████████████████████████████████████████████████████████████| 5250/5250 [00:00<00:00, 2632408.37it/s]\n",
      "W0818 07:31:55.106194 15064 base_any2vec.py:1386] under 10 jobs per worker: consider setting a smaller `batch_words' for smoother alpha decay\n",
      "100%|█████████████████████████████████████████████████████████████████████████| 5250/5250 [00:00<00:00, 2635243.66it/s]\n",
      "100%|██████████████████████████████████████████████████████████████████████████| 5250/5250 [00:00<00:00, 871841.31it/s]\n"
     ]
    },
    {
     "name": "stderr",
     "output_type": "stream",
     "text": [
      "W0818 07:31:55.286584 15064 base_any2vec.py:1386] under 10 jobs per worker: consider setting a smaller `batch_words' for smoother alpha decay\n",
      "100%|█████████████████████████████████████████████████████████████████████████| 5250/5250 [00:00<00:00, 2571840.22it/s]\n",
      "W0818 07:31:55.342433 15064 base_any2vec.py:1386] under 10 jobs per worker: consider setting a smaller `batch_words' for smoother alpha decay\n",
      "100%|█████████████████████████████████████████████████████████████████████████| 5250/5250 [00:00<00:00, 2634928.32it/s]\n",
      "W0818 07:31:55.393298 15064 base_any2vec.py:1386] under 10 jobs per worker: consider setting a smaller `batch_words' for smoother alpha decay\n",
      "100%|█████████████████████████████████████████████████████████████████████████| 5250/5250 [00:00<00:00, 2632723.10it/s]\n",
      "W0818 07:31:55.445159 15064 base_any2vec.py:1386] under 10 jobs per worker: consider setting a smaller `batch_words' for smoother alpha decay\n",
      "100%|█████████████████████████████████████████████████████████████████████████| 5250/5250 [00:00<00:00, 2632093.71it/s]\n",
      "W0818 07:31:55.498018 15064 base_any2vec.py:1386] under 10 jobs per worker: consider setting a smaller `batch_words' for smoother alpha decay\n",
      "100%|█████████████████████████████████████████████████████████████████████████| 5250/5250 [00:00<00:00, 2569739.29it/s]\n",
      "W0818 07:31:55.551065 15064 base_any2vec.py:1386] under 10 jobs per worker: consider setting a smaller `batch_words' for smoother alpha decay\n",
      "100%|█████████████████████████████████████████████████████████████████████████| 5250/5250 [00:00<00:00, 2632408.37it/s]\n",
      "W0818 07:31:55.601928 15064 base_any2vec.py:1386] under 10 jobs per worker: consider setting a smaller `batch_words' for smoother alpha decay\n",
      "100%|█████████████████████████████████████████████████████████████████████████| 5250/5250 [00:00<00:00, 1754030.27it/s]\n",
      "W0818 07:31:55.654787 15064 base_any2vec.py:1386] under 10 jobs per worker: consider setting a smaller `batch_words' for smoother alpha decay\n",
      "100%|█████████████████████████████████████████████████████████████████████████| 5250/5250 [00:00<00:00, 2634297.88it/s]\n",
      "W0818 07:31:55.703656 15064 base_any2vec.py:1386] under 10 jobs per worker: consider setting a smaller `batch_words' for smoother alpha decay\n",
      "100%|█████████████████████████████████████████████████████████████████████████| 5250/5250 [00:00<00:00, 1748320.44it/s]\n",
      "W0818 07:31:55.759507 15064 base_any2vec.py:1386] under 10 jobs per worker: consider setting a smaller `batch_words' for smoother alpha decay\n",
      "100%|█████████████████████████████████████████████████████████████████████████| 5250/5250 [00:00<00:00, 1754449.53it/s]\n",
      "W0818 07:31:55.820345 15064 base_any2vec.py:1386] under 10 jobs per worker: consider setting a smaller `batch_words' for smoother alpha decay\n",
      "100%|█████████████████████████████████████████████████████████████████████████| 5250/5250 [00:00<00:00, 2633667.74it/s]\n",
      "W0818 07:31:55.889667 15064 base_any2vec.py:1386] under 10 jobs per worker: consider setting a smaller `batch_words' for smoother alpha decay\n",
      "100%|██████████████████████████████████████████████████████████████████████████| 5250/5250 [00:00<00:00, 735646.14it/s]\n",
      "W0818 07:31:55.966654 15064 base_any2vec.py:1386] under 10 jobs per worker: consider setting a smaller `batch_words' for smoother alpha decay\n",
      "100%|█████████████████████████████████████████████████████████████████████████| 5250/5250 [00:00<00:00, 1052988.52it/s]\n",
      "W0818 07:31:56.040625 15064 base_any2vec.py:1386] under 10 jobs per worker: consider setting a smaller `batch_words' for smoother alpha decay\n",
      "100%|██████████████████████████████████████████████████████████████████████████| 5250/5250 [00:00<00:00, 590731.19it/s]\n",
      "W0818 07:31:56.104326 15064 base_any2vec.py:1386] under 10 jobs per worker: consider setting a smaller `batch_words' for smoother alpha decay\n",
      "100%|█████████████████████████████████████████████████████████████████████████| 5250/5250 [00:00<00:00, 1756408.71it/s]\n",
      "W0818 07:31:56.170678 15064 base_any2vec.py:1386] under 10 jobs per worker: consider setting a smaller `batch_words' for smoother alpha decay\n",
      "100%|█████████████████████████████████████████████████████████████████████████| 5250/5250 [00:00<00:00, 2633982.78it/s]\n",
      "W0818 07:31:56.222780 15064 base_any2vec.py:1386] under 10 jobs per worker: consider setting a smaller `batch_words' for smoother alpha decay\n",
      "100%|█████████████████████████████████████████████████████████████████████████| 5250/5250 [00:00<00:00, 2632408.37it/s]\n",
      "W0818 07:31:56.275639 15064 base_any2vec.py:1386] under 10 jobs per worker: consider setting a smaller `batch_words' for smoother alpha decay\n",
      "100%|█████████████████████████████████████████████████████████████████████████| 5250/5250 [00:00<00:00, 5262929.25it/s]\n",
      "W0818 07:31:56.324977 15064 base_any2vec.py:1386] under 10 jobs per worker: consider setting a smaller `batch_words' for smoother alpha decay\n",
      "100%|█████████████████████████████████████████████████████████████████████████| 5250/5250 [00:00<00:00, 1755288.64it/s]\n",
      "W0818 07:31:56.374845 15064 base_any2vec.py:1386] under 10 jobs per worker: consider setting a smaller `batch_words' for smoother alpha decay\n",
      "100%|█████████████████████████████████████████████████████████████████████████| 5250/5250 [00:00<00:00, 5266705.57it/s]\n",
      "W0818 07:31:56.423223 15064 base_any2vec.py:1386] under 10 jobs per worker: consider setting a smaller `batch_words' for smoother alpha decay\n",
      "100%|█████████████████████████████████████████████████████████████████████████| 5250/5250 [00:00<00:00, 2631779.13it/s]\n",
      "W0818 07:31:56.477079 15064 base_any2vec.py:1386] under 10 jobs per worker: consider setting a smaller `batch_words' for smoother alpha decay\n",
      "100%|█████████████████████████████████████████████████████████████████████████| 5250/5250 [00:00<00:00, 2631150.20it/s]\n",
      "W0818 07:31:56.527943 15064 base_any2vec.py:1386] under 10 jobs per worker: consider setting a smaller `batch_words' for smoother alpha decay\n",
      "100%|█████████████████████████████████████████████████████████████████████████| 5250/5250 [00:00<00:00, 2631779.13it/s]\n",
      "W0818 07:31:56.576812 15064 base_any2vec.py:1386] under 10 jobs per worker: consider setting a smaller `batch_words' for smoother alpha decay\n",
      "100%|█████████████████████████████████████████████████████████████████████████| 5250/5250 [00:00<00:00, 2632723.10it/s]\n",
      "W0818 07:31:56.627676 15064 base_any2vec.py:1386] under 10 jobs per worker: consider setting a smaller `batch_words' for smoother alpha decay\n",
      "100%|█████████████████████████████████████████████████████████████████████████| 5250/5250 [00:00<00:00, 2632093.71it/s]\n",
      "W0818 07:31:56.684557 15064 base_any2vec.py:1386] under 10 jobs per worker: consider setting a smaller `batch_words' for smoother alpha decay\n",
      "100%|█████████████████████████████████████████████████████████████████████████| 5250/5250 [00:00<00:00, 2647919.19it/s]\n",
      "W0818 07:31:56.740376 15064 base_any2vec.py:1386] under 10 jobs per worker: consider setting a smaller `batch_words' for smoother alpha decay\n",
      "100%|█████████████████████████████████████████████████████████████████████████| 5250/5250 [00:00<00:00, 1315810.94it/s]\n",
      "W0818 07:31:56.794230 15064 base_any2vec.py:1386] under 10 jobs per worker: consider setting a smaller `batch_words' for smoother alpha decay\n",
      "100%|█████████████████████████████████████████████████████████████████████████| 5250/5250 [00:00<00:00, 2632093.71it/s]\n",
      "W0818 07:31:56.846092 15064 base_any2vec.py:1386] under 10 jobs per worker: consider setting a smaller `batch_words' for smoother alpha decay\n",
      "100%|█████████████████████████████████████████████████████████████████████████| 5250/5250 [00:00<00:00, 1746933.44it/s]\n",
      "W0818 07:31:56.901942 15064 base_any2vec.py:1386] under 10 jobs per worker: consider setting a smaller `batch_words' for smoother alpha decay\n",
      "C:\\Users\\Asus FX504\\.conda\\envs\\tensor\\lib\\site-packages\\ipykernel_launcher.py:22: DeprecationWarning: Call to deprecated `__getitem__` (Method will be removed in 4.0.0, use self.wv.__getitem__() instead).\n",
      "C:\\Users\\Asus FX504\\.conda\\envs\\tensor\\lib\\site-packages\\ipykernel_launcher.py:22: DeprecationWarning: Call to deprecated `__getitem__` (Method will be removed in 4.0.0, use self.wv.__getitem__() instead).\n",
      "C:\\Users\\Asus FX504\\.conda\\envs\\tensor\\lib\\site-packages\\sklearn\\linear_model\\logistic.py:432: FutureWarning: Default solver will be changed to 'lbfgs' in 0.22. Specify a solver to silence this warning.\n",
      "  FutureWarning)\n"
     ]
    },
    {
     "name": "stderr",
     "output_type": "stream",
     "text": [
      "C:\\Users\\Asus FX504\\.conda\\envs\\tensor\\lib\\site-packages\\sklearn\\linear_model\\logistic.py:469: FutureWarning: Default multi_class will be changed to 'auto' in 0.22. Specify the multi_class option to silence this warning.\n",
      "  \"this warning.\", FutureWarning)\n"
     ]
    },
    {
     "name": "stdout",
     "output_type": "stream",
     "text": [
      "0.6581956797966964\n"
     ]
    },
    {
     "name": "stderr",
     "output_type": "stream",
     "text": [
      "C:\\Users\\Asus FX504\\.conda\\envs\\tensor\\lib\\site-packages\\ipykernel_launcher.py:34: DeprecationWarning: Call to deprecated `__getitem__` (Method will be removed in 4.0.0, use self.wv.__getitem__() instead).\n",
      "C:\\Users\\Asus FX504\\.conda\\envs\\tensor\\lib\\site-packages\\ipykernel_launcher.py:34: DeprecationWarning: Call to deprecated `__getitem__` (Method will be removed in 4.0.0, use self.wv.__getitem__() instead).\n",
      "C:\\Users\\Asus FX504\\.conda\\envs\\tensor\\lib\\site-packages\\sklearn\\linear_model\\logistic.py:432: FutureWarning: Default solver will be changed to 'lbfgs' in 0.22. Specify a solver to silence this warning.\n",
      "  FutureWarning)\n",
      "C:\\Users\\Asus FX504\\.conda\\envs\\tensor\\lib\\site-packages\\sklearn\\linear_model\\logistic.py:469: FutureWarning: Default multi_class will be changed to 'auto' in 0.22. Specify the multi_class option to silence this warning.\n",
      "  \"this warning.\", FutureWarning)\n"
     ]
    },
    {
     "name": "stdout",
     "output_type": "stream",
     "text": [
      "0.6632782719186785\n"
     ]
    }
   ],
   "source": [
    "for epoch in range(30):\n",
    "    model_ug_cbow.train(utils.shuffle([x.words for x in tqdm(all_x_w2v)]),\n",
    "                        total_examples=len(all_x_w2v), epochs=1)\n",
    "    model_ug_cbow.alpha -= 0.002\n",
    "    model_ug_cbow.min_alpha = model_ug_cbow.alpha\n",
    "\n",
    "model_ug_sg = Word2Vec(sg=1, size=100, negative=5, window=2, min_count=2,\n",
    "                       workers=cores, alpha=0.065, min_alpha=0.065)\n",
    "model_ug_sg.build_vocab([x.words for x in tqdm(all_x_w2v)])\n",
    "\n",
    "for epoch in range(30):\n",
    "    model_ug_sg.train(utils.shuffle([x.words for x in tqdm(all_x_w2v)]),\n",
    "                      total_examples=len(all_x_w2v), epochs=1)\n",
    "    model_ug_sg.alpha -= 0.002\n",
    "    model_ug_sg.min_alpha = model_ug_sg.alpha\n",
    "\n",
    "def get_w2v_mean(tweet, size):\n",
    "    vec = np.zeros(size).reshape((1, size))\n",
    "    count = 0.\n",
    "    for word in tweet.split():\n",
    "        try:\n",
    "            vec += np.append(model_ug_cbow[word],model_ug_sg[word]).reshape((1, size))\n",
    "            count += 1.\n",
    "        except KeyError:\n",
    "            continue\n",
    "    if count != 0:\n",
    "        vec /= count\n",
    "    return vec\n",
    "  \n",
    "def get_w2v_sum(tweet, size):\n",
    "    vec = np.zeros(size).reshape((1, size))\n",
    "    for word in tweet.split():\n",
    "        try:\n",
    "            vec += np.append(model_ug_cbow[word],model_ug_sg[word]).reshape((1, size))\n",
    "        except KeyError:\n",
    "            continue\n",
    "    return vec\n",
    "  \n",
    "train_vecs_cbowsg_mean = scale(np.concatenate([get_w2v_mean(z, 200) for z in x_train]))\n",
    "validation_vecs_cbowsg_mean = scale(np.concatenate([get_w2v_mean(z, 200) for z in x_validation]))\n",
    "clf = LogisticRegression()\n",
    "clf.fit(train_vecs_cbowsg_mean, y_train)\n",
    "print(clf.score(validation_vecs_cbowsg_mean, y_validation))\n",
    "\n",
    "train_vecs_cbowsg_sum = scale(np.concatenate([get_w2v_sum(z, 200) for z in x_train]))\n",
    "validation_vecs_cbowsg_sum = scale(np.concatenate([get_w2v_sum(z, 200) for z in x_validation]))\n",
    "clf = LogisticRegression()\n",
    "clf.fit(train_vecs_cbowsg_sum, y_train)\n",
    "print(clf.score(validation_vecs_cbowsg_sum, y_validation))"
   ]
  },
  {
   "cell_type": "code",
   "execution_count": 14,
   "metadata": {},
   "outputs": [],
   "source": [
    "#w2v general\n",
    "def get_w2v_general(tweet, size, vectors, aggregation='mean'):\n",
    "    vec = np.zeros(size).reshape((1, size))\n",
    "    count = 0.\n",
    "    for word in tweet.split():\n",
    "        try:\n",
    "            vec += vectors[word].reshape((1, size))\n",
    "            count += 1.\n",
    "        except KeyError:\n",
    "            continue\n",
    "    if aggregation == 'mean':\n",
    "        if count != 0:\n",
    "            vec /= count\n",
    "        return vec\n",
    "    elif aggregation == 'sum':\n",
    "        return vec"
   ]
  },
  {
   "cell_type": "code",
   "execution_count": 15,
   "metadata": {},
   "outputs": [],
   "source": [
    "#Word vectors extracted from Doc2Vec models with custom weighting\n",
    "cvec = CountVectorizer(max_features=100000)\n",
    "cvec.fit(x_train)\n",
    "\n",
    "neg_train = x_train[y_train == 0]\n",
    "pos_train = x_train[y_train == 1]\n",
    "neu_train = x_train[y_train == 2]\n",
    "neg_doc_matrix = cvec.transform(neg_train)\n",
    "pos_doc_matrix = cvec.transform(pos_train)\n",
    "neu_doc_matrix = cvec.transform(neu_train)\n",
    "neg_tf = np.sum(neg_doc_matrix,axis=0)\n",
    "pos_tf = np.sum(pos_doc_matrix,axis=0)\n",
    "neu_tf = np.sum(neu_doc_matrix,axis=0)\n",
    "\n",
    "def normcdf(x):\n",
    "    return norm.cdf(x, x.mean(), x.std())\n",
    "\n",
    "neg = np.squeeze(np.asarray(neg_tf))\n",
    "pos = np.squeeze(np.asarray(pos_tf))\n",
    "neu = np.squeeze(np.asarray(neu_tf))\n",
    "term_freq_df2 = pd.DataFrame([neg,pos,neu],columns=cvec.get_feature_names()).transpose()\n",
    "term_freq_df2.columns = ['negative', 'positive','neutral']\n",
    "term_freq_df2['total'] = term_freq_df2['negative'] + term_freq_df2['positive'] + term_freq_df2['neutral']\n",
    "term_freq_df2['pos_rate'] = term_freq_df2['positive'] * 1./term_freq_df2['total']\n",
    "term_freq_df2['pos_freq_pct'] = term_freq_df2['positive'] * 1./term_freq_df2['positive'].sum()\n",
    "term_freq_df2['pos_rate_normcdf'] = normcdf(term_freq_df2['pos_rate'])\n",
    "term_freq_df2['pos_freq_pct_normcdf'] = normcdf(term_freq_df2['pos_freq_pct'])\n",
    "term_freq_df2['pos_normcdf_hmean'] = hmean([term_freq_df2['pos_rate_normcdf'], term_freq_df2['pos_freq_pct_normcdf']])\n",
    "pos_hmean = term_freq_df2.pos_normcdf_hmean\n",
    "\n",
    "\n",
    "#w2v_pos_hmean = {}\n",
    "#for w in model_ug_dbow.wv.vocab.keys():\n",
    "#    if w in pos_hmean.keys():\n",
    "#        w2v_pos_hmean[w] = np.append(model_ug_dbow[w],model_ug_dmm[w]) * pos_hmean[w]\n",
    "        \n",
    "#train_vecs_w2v_poshmean_mean = scale(np.concatenate([get_w2v_general(z, 200, w2v_pos_hmean, 'mean') for z in x_train]))\n",
    "#validation_vecs_w2v_poshmean_mean = scale(np.concatenate([get_w2v_general(z, 200, w2v_pos_hmean, 'mean') for z in x_validation]))\n",
    "#clf = LogisticRegression()\n",
    "#clf.fit(train_vecs_w2v_poshmean_mean, y_train)\n",
    "#print(clf.score(validation_vecs_w2v_poshmean_mean, y_validation))\n",
    "\n",
    "#train_vecs_w2v_poshmean_sum = scale(np.concatenate([get_w2v_general(z, 200, w2v_pos_hmean, 'sum') for z in x_train]))\n",
    "#validation_vecs_w2v_poshmean_sum = scale(np.concatenate([get_w2v_general(z, 200, w2v_pos_hmean, 'sum') for z in x_validation]))\n",
    "#clf = LogisticRegression()\n",
    "#clf.fit(train_vecs_w2v_poshmean_sum, y_train)\n",
    "#print(clf.score(validation_vecs_w2v_poshmean_sum, y_validation))"
   ]
  },
  {
   "cell_type": "code",
   "execution_count": 16,
   "metadata": {},
   "outputs": [
    {
     "name": "stderr",
     "output_type": "stream",
     "text": [
      "C:\\Users\\Asus FX504\\.conda\\envs\\tensor\\lib\\site-packages\\ipykernel_launcher.py:5: DeprecationWarning: Call to deprecated `__getitem__` (Method will be removed in 4.0.0, use self.wv.__getitem__() instead).\n",
      "  \"\"\"\n",
      "C:\\Users\\Asus FX504\\.conda\\envs\\tensor\\lib\\site-packages\\sklearn\\linear_model\\logistic.py:432: FutureWarning: Default solver will be changed to 'lbfgs' in 0.22. Specify a solver to silence this warning.\n",
      "  FutureWarning)\n",
      "C:\\Users\\Asus FX504\\.conda\\envs\\tensor\\lib\\site-packages\\sklearn\\linear_model\\logistic.py:469: FutureWarning: Default multi_class will be changed to 'auto' in 0.22. Specify the multi_class option to silence this warning.\n",
      "  \"this warning.\", FutureWarning)\n"
     ]
    },
    {
     "name": "stdout",
     "output_type": "stream",
     "text": [
      "0.6797966963151207\n"
     ]
    },
    {
     "name": "stderr",
     "output_type": "stream",
     "text": [
      "C:\\Users\\Asus FX504\\.conda\\envs\\tensor\\lib\\site-packages\\sklearn\\linear_model\\logistic.py:432: FutureWarning: Default solver will be changed to 'lbfgs' in 0.22. Specify a solver to silence this warning.\n",
      "  FutureWarning)\n",
      "C:\\Users\\Asus FX504\\.conda\\envs\\tensor\\lib\\site-packages\\sklearn\\linear_model\\logistic.py:469: FutureWarning: Default multi_class will be changed to 'auto' in 0.22. Specify the multi_class option to silence this warning.\n",
      "  \"this warning.\", FutureWarning)\n"
     ]
    },
    {
     "name": "stdout",
     "output_type": "stream",
     "text": [
      "0.6810673443456162\n"
     ]
    }
   ],
   "source": [
    "#Separately trained Word2Vec with custom weighting (Average/Sum)\n",
    "w2v_pos_hmean_01 = {}\n",
    "for w in model_ug_cbow.wv.vocab.keys():\n",
    "    if w in pos_hmean.keys():\n",
    "        w2v_pos_hmean_01[w] = np.append(model_ug_cbow[w],model_ug_sg[w]) * pos_hmean[w]\n",
    "        \n",
    "train_vecs_w2v_poshmean_mean_01 = scale(np.concatenate([get_w2v_general(z, 200, w2v_pos_hmean_01, 'mean') for z in x_train]))\n",
    "validation_vecs_w2v_poshmean_mean_01 = scale(np.concatenate([get_w2v_general(z, 200, w2v_pos_hmean_01, 'mean') for z in x_validation]))\n",
    "clf = LogisticRegression()\n",
    "clf.fit(train_vecs_w2v_poshmean_mean_01, y_train)\n",
    "print(clf.score(validation_vecs_w2v_poshmean_mean_01, y_validation))\n",
    "\n",
    "train_vecs_w2v_poshmean_sum_01 = scale(np.concatenate([get_w2v_general(z, 200, w2v_pos_hmean_01, 'sum') for z in x_train]))\n",
    "validation_vecs_w2v_poshmean_sum_01 = scale(np.concatenate([get_w2v_general(z, 200, w2v_pos_hmean_01, 'sum') for z in x_validation]))\n",
    "clf = LogisticRegression()\n",
    "clf.fit(train_vecs_w2v_poshmean_sum_01, y_train)\n",
    "print(clf.score(validation_vecs_w2v_poshmean_sum_01, y_validation))"
   ]
  },
  {
   "cell_type": "code",
   "execution_count": null,
   "metadata": {},
   "outputs": [],
   "source": [
    "model_ug_cbow.save(\"w2v_model_ug_cbow.word2vec\")"
   ]
  },
  {
   "cell_type": "code",
   "execution_count": null,
   "metadata": {},
   "outputs": [],
   "source": [
    "model_ug_sg.save(\"w2v_model_ug_sg.word2vec\")"
   ]
  },
  {
   "cell_type": "code",
   "execution_count": 17,
   "metadata": {},
   "outputs": [
    {
     "ename": "FileNotFoundError",
     "evalue": "[Errno 2] No such file or directory: 'w2v_model_ug_cbow.word2vec'",
     "output_type": "error",
     "traceback": [
      "\u001b[1;31m---------------------------------------------------------------------------\u001b[0m",
      "\u001b[1;31mFileNotFoundError\u001b[0m                         Traceback (most recent call last)",
      "\u001b[1;32m<ipython-input-17-73ceb30d78ba>\u001b[0m in \u001b[0;36m<module>\u001b[1;34m\u001b[0m\n\u001b[0;32m      1\u001b[0m \u001b[1;32mfrom\u001b[0m \u001b[0mgensim\u001b[0m\u001b[1;33m.\u001b[0m\u001b[0mmodels\u001b[0m \u001b[1;32mimport\u001b[0m \u001b[0mKeyedVectors\u001b[0m\u001b[1;33m\u001b[0m\u001b[1;33m\u001b[0m\u001b[0m\n\u001b[1;32m----> 2\u001b[1;33m \u001b[0mmodel_ug_cbow\u001b[0m \u001b[1;33m=\u001b[0m \u001b[0mKeyedVectors\u001b[0m\u001b[1;33m.\u001b[0m\u001b[0mload\u001b[0m\u001b[1;33m(\u001b[0m\u001b[1;34m'w2v_model_ug_cbow.word2vec'\u001b[0m\u001b[1;33m)\u001b[0m\u001b[1;33m\u001b[0m\u001b[1;33m\u001b[0m\u001b[0m\n\u001b[0m\u001b[0;32m      3\u001b[0m \u001b[0mmodel_ug_sg\u001b[0m \u001b[1;33m=\u001b[0m \u001b[0mKeyedVectors\u001b[0m\u001b[1;33m.\u001b[0m\u001b[0mload\u001b[0m\u001b[1;33m(\u001b[0m\u001b[1;34m'w2v_model_ug_sg.word2vec'\u001b[0m\u001b[1;33m)\u001b[0m\u001b[1;33m\u001b[0m\u001b[1;33m\u001b[0m\u001b[0m\n",
      "\u001b[1;32m~\\.conda\\envs\\tensor\\lib\\site-packages\\gensim\\models\\keyedvectors.py\u001b[0m in \u001b[0;36mload\u001b[1;34m(cls, fname_or_handle, **kwargs)\u001b[0m\n\u001b[0;32m   1538\u001b[0m     \u001b[1;33m@\u001b[0m\u001b[0mclassmethod\u001b[0m\u001b[1;33m\u001b[0m\u001b[1;33m\u001b[0m\u001b[0m\n\u001b[0;32m   1539\u001b[0m     \u001b[1;32mdef\u001b[0m \u001b[0mload\u001b[0m\u001b[1;33m(\u001b[0m\u001b[0mcls\u001b[0m\u001b[1;33m,\u001b[0m \u001b[0mfname_or_handle\u001b[0m\u001b[1;33m,\u001b[0m \u001b[1;33m**\u001b[0m\u001b[0mkwargs\u001b[0m\u001b[1;33m)\u001b[0m\u001b[1;33m:\u001b[0m\u001b[1;33m\u001b[0m\u001b[1;33m\u001b[0m\u001b[0m\n\u001b[1;32m-> 1540\u001b[1;33m         \u001b[0mmodel\u001b[0m \u001b[1;33m=\u001b[0m \u001b[0msuper\u001b[0m\u001b[1;33m(\u001b[0m\u001b[0mWordEmbeddingsKeyedVectors\u001b[0m\u001b[1;33m,\u001b[0m \u001b[0mcls\u001b[0m\u001b[1;33m)\u001b[0m\u001b[1;33m.\u001b[0m\u001b[0mload\u001b[0m\u001b[1;33m(\u001b[0m\u001b[0mfname_or_handle\u001b[0m\u001b[1;33m,\u001b[0m \u001b[1;33m**\u001b[0m\u001b[0mkwargs\u001b[0m\u001b[1;33m)\u001b[0m\u001b[1;33m\u001b[0m\u001b[1;33m\u001b[0m\u001b[0m\n\u001b[0m\u001b[0;32m   1541\u001b[0m         \u001b[1;32mif\u001b[0m \u001b[0misinstance\u001b[0m\u001b[1;33m(\u001b[0m\u001b[0mmodel\u001b[0m\u001b[1;33m,\u001b[0m \u001b[0mFastTextKeyedVectors\u001b[0m\u001b[1;33m)\u001b[0m\u001b[1;33m:\u001b[0m\u001b[1;33m\u001b[0m\u001b[1;33m\u001b[0m\u001b[0m\n\u001b[0;32m   1542\u001b[0m             \u001b[1;32mif\u001b[0m \u001b[1;32mnot\u001b[0m \u001b[0mhasattr\u001b[0m\u001b[1;33m(\u001b[0m\u001b[0mmodel\u001b[0m\u001b[1;33m,\u001b[0m \u001b[1;34m'compatible_hash'\u001b[0m\u001b[1;33m)\u001b[0m\u001b[1;33m:\u001b[0m\u001b[1;33m\u001b[0m\u001b[1;33m\u001b[0m\u001b[0m\n",
      "\u001b[1;32m~\\.conda\\envs\\tensor\\lib\\site-packages\\gensim\\models\\keyedvectors.py\u001b[0m in \u001b[0;36mload\u001b[1;34m(cls, fname_or_handle, **kwargs)\u001b[0m\n\u001b[0;32m    226\u001b[0m     \u001b[1;33m@\u001b[0m\u001b[0mclassmethod\u001b[0m\u001b[1;33m\u001b[0m\u001b[1;33m\u001b[0m\u001b[0m\n\u001b[0;32m    227\u001b[0m     \u001b[1;32mdef\u001b[0m \u001b[0mload\u001b[0m\u001b[1;33m(\u001b[0m\u001b[0mcls\u001b[0m\u001b[1;33m,\u001b[0m \u001b[0mfname_or_handle\u001b[0m\u001b[1;33m,\u001b[0m \u001b[1;33m**\u001b[0m\u001b[0mkwargs\u001b[0m\u001b[1;33m)\u001b[0m\u001b[1;33m:\u001b[0m\u001b[1;33m\u001b[0m\u001b[1;33m\u001b[0m\u001b[0m\n\u001b[1;32m--> 228\u001b[1;33m         \u001b[1;32mreturn\u001b[0m \u001b[0msuper\u001b[0m\u001b[1;33m(\u001b[0m\u001b[0mBaseKeyedVectors\u001b[0m\u001b[1;33m,\u001b[0m \u001b[0mcls\u001b[0m\u001b[1;33m)\u001b[0m\u001b[1;33m.\u001b[0m\u001b[0mload\u001b[0m\u001b[1;33m(\u001b[0m\u001b[0mfname_or_handle\u001b[0m\u001b[1;33m,\u001b[0m \u001b[1;33m**\u001b[0m\u001b[0mkwargs\u001b[0m\u001b[1;33m)\u001b[0m\u001b[1;33m\u001b[0m\u001b[1;33m\u001b[0m\u001b[0m\n\u001b[0m\u001b[0;32m    229\u001b[0m \u001b[1;33m\u001b[0m\u001b[0m\n\u001b[0;32m    230\u001b[0m     \u001b[1;32mdef\u001b[0m \u001b[0msimilarity\u001b[0m\u001b[1;33m(\u001b[0m\u001b[0mself\u001b[0m\u001b[1;33m,\u001b[0m \u001b[0mentity1\u001b[0m\u001b[1;33m,\u001b[0m \u001b[0mentity2\u001b[0m\u001b[1;33m)\u001b[0m\u001b[1;33m:\u001b[0m\u001b[1;33m\u001b[0m\u001b[1;33m\u001b[0m\u001b[0m\n",
      "\u001b[1;32m~\\.conda\\envs\\tensor\\lib\\site-packages\\gensim\\utils.py\u001b[0m in \u001b[0;36mload\u001b[1;34m(cls, fname, mmap)\u001b[0m\n\u001b[0;32m    424\u001b[0m         \u001b[0mcompress\u001b[0m\u001b[1;33m,\u001b[0m \u001b[0msubname\u001b[0m \u001b[1;33m=\u001b[0m \u001b[0mSaveLoad\u001b[0m\u001b[1;33m.\u001b[0m\u001b[0m_adapt_by_suffix\u001b[0m\u001b[1;33m(\u001b[0m\u001b[0mfname\u001b[0m\u001b[1;33m)\u001b[0m\u001b[1;33m\u001b[0m\u001b[1;33m\u001b[0m\u001b[0m\n\u001b[0;32m    425\u001b[0m \u001b[1;33m\u001b[0m\u001b[0m\n\u001b[1;32m--> 426\u001b[1;33m         \u001b[0mobj\u001b[0m \u001b[1;33m=\u001b[0m \u001b[0munpickle\u001b[0m\u001b[1;33m(\u001b[0m\u001b[0mfname\u001b[0m\u001b[1;33m)\u001b[0m\u001b[1;33m\u001b[0m\u001b[1;33m\u001b[0m\u001b[0m\n\u001b[0m\u001b[0;32m    427\u001b[0m         \u001b[0mobj\u001b[0m\u001b[1;33m.\u001b[0m\u001b[0m_load_specials\u001b[0m\u001b[1;33m(\u001b[0m\u001b[0mfname\u001b[0m\u001b[1;33m,\u001b[0m \u001b[0mmmap\u001b[0m\u001b[1;33m,\u001b[0m \u001b[0mcompress\u001b[0m\u001b[1;33m,\u001b[0m \u001b[0msubname\u001b[0m\u001b[1;33m)\u001b[0m\u001b[1;33m\u001b[0m\u001b[1;33m\u001b[0m\u001b[0m\n\u001b[0;32m    428\u001b[0m         \u001b[0mlogger\u001b[0m\u001b[1;33m.\u001b[0m\u001b[0minfo\u001b[0m\u001b[1;33m(\u001b[0m\u001b[1;34m\"loaded %s\"\u001b[0m\u001b[1;33m,\u001b[0m \u001b[0mfname\u001b[0m\u001b[1;33m)\u001b[0m\u001b[1;33m\u001b[0m\u001b[1;33m\u001b[0m\u001b[0m\n",
      "\u001b[1;32m~\\.conda\\envs\\tensor\\lib\\site-packages\\gensim\\utils.py\u001b[0m in \u001b[0;36munpickle\u001b[1;34m(fname)\u001b[0m\n\u001b[0;32m   1379\u001b[0m \u001b[1;33m\u001b[0m\u001b[0m\n\u001b[0;32m   1380\u001b[0m     \"\"\"\n\u001b[1;32m-> 1381\u001b[1;33m     \u001b[1;32mwith\u001b[0m \u001b[0mopen\u001b[0m\u001b[1;33m(\u001b[0m\u001b[0mfname\u001b[0m\u001b[1;33m,\u001b[0m \u001b[1;34m'rb'\u001b[0m\u001b[1;33m)\u001b[0m \u001b[1;32mas\u001b[0m \u001b[0mf\u001b[0m\u001b[1;33m:\u001b[0m\u001b[1;33m\u001b[0m\u001b[1;33m\u001b[0m\u001b[0m\n\u001b[0m\u001b[0;32m   1382\u001b[0m         \u001b[1;31m# Because of loading from S3 load can't be used (missing readline in smart_open)\u001b[0m\u001b[1;33m\u001b[0m\u001b[1;33m\u001b[0m\u001b[1;33m\u001b[0m\u001b[0m\n\u001b[0;32m   1383\u001b[0m         \u001b[1;32mif\u001b[0m \u001b[0msys\u001b[0m\u001b[1;33m.\u001b[0m\u001b[0mversion_info\u001b[0m \u001b[1;33m>\u001b[0m \u001b[1;33m(\u001b[0m\u001b[1;36m3\u001b[0m\u001b[1;33m,\u001b[0m \u001b[1;36m0\u001b[0m\u001b[1;33m)\u001b[0m\u001b[1;33m:\u001b[0m\u001b[1;33m\u001b[0m\u001b[1;33m\u001b[0m\u001b[0m\n",
      "\u001b[1;32m~\\.conda\\envs\\tensor\\lib\\site-packages\\smart_open\\smart_open_lib.py\u001b[0m in \u001b[0;36mopen\u001b[1;34m(uri, mode, buffering, encoding, errors, newline, closefd, opener, ignore_ext, transport_params)\u001b[0m\n\u001b[0;32m    305\u001b[0m         \u001b[0mbuffering\u001b[0m\u001b[1;33m=\u001b[0m\u001b[0mbuffering\u001b[0m\u001b[1;33m,\u001b[0m\u001b[1;33m\u001b[0m\u001b[1;33m\u001b[0m\u001b[0m\n\u001b[0;32m    306\u001b[0m         \u001b[0mencoding\u001b[0m\u001b[1;33m=\u001b[0m\u001b[0mencoding\u001b[0m\u001b[1;33m,\u001b[0m\u001b[1;33m\u001b[0m\u001b[1;33m\u001b[0m\u001b[0m\n\u001b[1;32m--> 307\u001b[1;33m         \u001b[0merrors\u001b[0m\u001b[1;33m=\u001b[0m\u001b[0merrors\u001b[0m\u001b[1;33m,\u001b[0m\u001b[1;33m\u001b[0m\u001b[1;33m\u001b[0m\u001b[0m\n\u001b[0m\u001b[0;32m    308\u001b[0m     )\n\u001b[0;32m    309\u001b[0m     \u001b[1;32mif\u001b[0m \u001b[0mfobj\u001b[0m \u001b[1;32mis\u001b[0m \u001b[1;32mnot\u001b[0m \u001b[1;32mNone\u001b[0m\u001b[1;33m:\u001b[0m\u001b[1;33m\u001b[0m\u001b[1;33m\u001b[0m\u001b[0m\n",
      "\u001b[1;32m~\\.conda\\envs\\tensor\\lib\\site-packages\\smart_open\\smart_open_lib.py\u001b[0m in \u001b[0;36m_shortcut_open\u001b[1;34m(uri, mode, ignore_ext, buffering, encoding, errors)\u001b[0m\n\u001b[0;32m    510\u001b[0m     \u001b[1;31m#\u001b[0m\u001b[1;33m\u001b[0m\u001b[1;33m\u001b[0m\u001b[1;33m\u001b[0m\u001b[0m\n\u001b[0;32m    511\u001b[0m     \u001b[1;32mif\u001b[0m \u001b[0msix\u001b[0m\u001b[1;33m.\u001b[0m\u001b[0mPY3\u001b[0m\u001b[1;33m:\u001b[0m\u001b[1;33m\u001b[0m\u001b[1;33m\u001b[0m\u001b[0m\n\u001b[1;32m--> 512\u001b[1;33m         \u001b[1;32mreturn\u001b[0m \u001b[0m_builtin_open\u001b[0m\u001b[1;33m(\u001b[0m\u001b[0mparsed_uri\u001b[0m\u001b[1;33m.\u001b[0m\u001b[0muri_path\u001b[0m\u001b[1;33m,\u001b[0m \u001b[0mmode\u001b[0m\u001b[1;33m,\u001b[0m \u001b[0mbuffering\u001b[0m\u001b[1;33m=\u001b[0m\u001b[0mbuffering\u001b[0m\u001b[1;33m,\u001b[0m \u001b[1;33m**\u001b[0m\u001b[0mopen_kwargs\u001b[0m\u001b[1;33m)\u001b[0m\u001b[1;33m\u001b[0m\u001b[1;33m\u001b[0m\u001b[0m\n\u001b[0m\u001b[0;32m    513\u001b[0m     \u001b[1;32melif\u001b[0m \u001b[1;32mnot\u001b[0m \u001b[0mopen_kwargs\u001b[0m\u001b[1;33m:\u001b[0m\u001b[1;33m\u001b[0m\u001b[1;33m\u001b[0m\u001b[0m\n\u001b[0;32m    514\u001b[0m         \u001b[1;32mreturn\u001b[0m \u001b[0m_builtin_open\u001b[0m\u001b[1;33m(\u001b[0m\u001b[0mparsed_uri\u001b[0m\u001b[1;33m.\u001b[0m\u001b[0muri_path\u001b[0m\u001b[1;33m,\u001b[0m \u001b[0mmode\u001b[0m\u001b[1;33m,\u001b[0m \u001b[0mbuffering\u001b[0m\u001b[1;33m=\u001b[0m\u001b[0mbuffering\u001b[0m\u001b[1;33m)\u001b[0m\u001b[1;33m\u001b[0m\u001b[1;33m\u001b[0m\u001b[0m\n",
      "\u001b[1;31mFileNotFoundError\u001b[0m: [Errno 2] No such file or directory: 'w2v_model_ug_cbow.word2vec'"
     ]
    }
   ],
   "source": [
    "from gensim.models import KeyedVectors\n",
    "model_ug_cbow = KeyedVectors.load('w2v_model_ug_cbow.word2vec')\n",
    "model_ug_sg = KeyedVectors.load('w2v_model_ug_sg.word2vec')"
   ]
  },
  {
   "cell_type": "code",
   "execution_count": 18,
   "metadata": {},
   "outputs": [],
   "source": [
    "embeddings_index = {}\n",
    "for w in model_ug_cbow.wv.vocab.keys():\n",
    "    embeddings_index[w] = np.append(model_ug_cbow.wv[w],model_ug_sg.wv[w])"
   ]
  },
  {
   "cell_type": "code",
   "execution_count": 19,
   "metadata": {},
   "outputs": [],
   "source": [
    "from keras.preprocessing.text import Tokenizer\n",
    "from keras.preprocessing.sequence import pad_sequences\n",
    "tokenizer = Tokenizer(num_words=100000)\n",
    "tokenizer.fit_on_texts(x_train)\n",
    "sequences = tokenizer.texts_to_sequences(x_train)"
   ]
  },
  {
   "cell_type": "code",
   "execution_count": 20,
   "metadata": {},
   "outputs": [
    {
     "data": {
      "text/plain": [
       "30"
      ]
     },
     "execution_count": 20,
     "metadata": {},
     "output_type": "execute_result"
    }
   ],
   "source": [
    "length = []\n",
    "for x in x_train:\n",
    "    length.append(len(x.split()))\n",
    "max(length)"
   ]
  },
  {
   "cell_type": "code",
   "execution_count": 21,
   "metadata": {},
   "outputs": [],
   "source": [
    "x_train_seq = pad_sequences(sequences, maxlen=45)"
   ]
  },
  {
   "cell_type": "code",
   "execution_count": 22,
   "metadata": {},
   "outputs": [],
   "source": [
    "sequences_val = tokenizer.texts_to_sequences(x_validation)\n",
    "x_val_seq = pad_sequences(sequences_val, maxlen=45)\n",
    "num_words = 100000\n",
    "embedding_matrix = np.zeros((num_words, 200))\n",
    "for word, i in tokenizer.word_index.items():\n",
    "    if i >= num_words:\n",
    "        continue\n",
    "    embedding_vector = embeddings_index.get(word)\n",
    "    if embedding_vector is not None:\n",
    "        embedding_matrix[i] = embedding_vector"
   ]
  },
  {
   "cell_type": "code",
   "execution_count": null,
   "metadata": {},
   "outputs": [],
   "source": [
    "x_train_seq[:5]"
   ]
  },
  {
   "cell_type": "code",
   "execution_count": 23,
   "metadata": {},
   "outputs": [
    {
     "name": "stderr",
     "output_type": "stream",
     "text": [
      "W0818 07:32:35.463746 15064 deprecation_wrapper.py:119] From C:\\Users\\Asus FX504\\.conda\\envs\\tensor\\lib\\site-packages\\keras\\backend\\tensorflow_backend.py:74: The name tf.get_default_graph is deprecated. Please use tf.compat.v1.get_default_graph instead.\n",
      "\n",
      "W0818 07:32:35.880815 15064 deprecation_wrapper.py:119] From C:\\Users\\Asus FX504\\.conda\\envs\\tensor\\lib\\site-packages\\keras\\backend\\tensorflow_backend.py:517: The name tf.placeholder is deprecated. Please use tf.compat.v1.placeholder instead.\n",
      "\n",
      "W0818 07:32:35.956517 15064 deprecation_wrapper.py:119] From C:\\Users\\Asus FX504\\.conda\\envs\\tensor\\lib\\site-packages\\keras\\backend\\tensorflow_backend.py:4138: The name tf.random_uniform is deprecated. Please use tf.random.uniform instead.\n",
      "\n",
      "W0818 07:32:36.059191 15064 deprecation_wrapper.py:119] From C:\\Users\\Asus FX504\\.conda\\envs\\tensor\\lib\\site-packages\\keras\\optimizers.py:790: The name tf.train.Optimizer is deprecated. Please use tf.compat.v1.train.Optimizer instead.\n",
      "\n",
      "W0818 07:32:36.074155 15064 deprecation_wrapper.py:119] From C:\\Users\\Asus FX504\\.conda\\envs\\tensor\\lib\\site-packages\\keras\\backend\\tensorflow_backend.py:3341: The name tf.log is deprecated. Please use tf.math.log instead.\n",
      "\n",
      "W0818 07:32:36.229834 15064 deprecation.py:323] From C:\\Users\\Asus FX504\\.conda\\envs\\tensor\\lib\\site-packages\\tensorflow\\python\\ops\\math_grad.py:1250: add_dispatch_support.<locals>.wrapper (from tensorflow.python.ops.array_ops) is deprecated and will be removed in a future version.\n",
      "Instructions for updating:\n",
      "Use tf.where in 2.0, which has the same broadcast rule as np.where\n",
      "W0818 07:32:36.295741 15064 deprecation_wrapper.py:119] From C:\\Users\\Asus FX504\\.conda\\envs\\tensor\\lib\\site-packages\\keras\\backend\\tensorflow_backend.py:986: The name tf.assign_add is deprecated. Please use tf.compat.v1.assign_add instead.\n",
      "\n"
     ]
    },
    {
     "name": "stdout",
     "output_type": "stream",
     "text": [
      "Train on 3675 samples, validate on 787 samples\n",
      "Epoch 1/5\n",
      " - 16s - loss: 0.9525 - acc: 0.6120 - val_loss: 0.8348 - val_acc: 0.6417\n",
      "Epoch 2/5\n",
      " - 14s - loss: 0.5946 - acc: 0.7671 - val_loss: 0.7706 - val_acc: 0.6925\n",
      "Epoch 3/5\n",
      " - 14s - loss: 0.1957 - acc: 0.9478 - val_loss: 0.8482 - val_acc: 0.6645\n",
      "Epoch 4/5\n",
      " - 14s - loss: 0.0664 - acc: 0.9839 - val_loss: 0.9327 - val_acc: 0.6709\n",
      "Epoch 5/5\n",
      " - 14s - loss: 0.0452 - acc: 0.9886 - val_loss: 1.0299 - val_acc: 0.6595\n"
     ]
    },
    {
     "data": {
      "text/plain": [
       "<keras.callbacks.History at 0x1b943619f60>"
      ]
     },
     "execution_count": 23,
     "metadata": {},
     "output_type": "execute_result"
    }
   ],
   "source": [
    "model_ptw2v = Sequential()\n",
    "e = Embedding(100000, 200, input_length=45)\n",
    "model_ptw2v.add(e)\n",
    "model_ptw2v.add(Flatten())\n",
    "model_ptw2v.add(Dense(512, activation='relu'))\n",
    "model_ptw2v.add(Dense(10, activation='softmax'))\n",
    "model_ptw2v.compile(optimizer='adam', loss='sparse_categorical_crossentropy', metrics=['accuracy'])\n",
    "model_ptw2v.fit(x_train_seq, y_train, validation_data=(x_val_seq, y_validation), epochs=5, batch_size=64, verbose=2)"
   ]
  },
  {
   "cell_type": "code",
   "execution_count": 24,
   "metadata": {
    "scrolled": true
   },
   "outputs": [
    {
     "name": "stderr",
     "output_type": "stream",
     "text": [
      "W0818 07:33:50.700862 15064 deprecation.py:506] From C:\\Users\\Asus FX504\\.conda\\envs\\tensor\\lib\\site-packages\\keras\\backend\\tensorflow_backend.py:3445: calling dropout (from tensorflow.python.ops.nn_ops) with keep_prob is deprecated and will be removed in a future version.\n",
      "Instructions for updating:\n",
      "Please use `rate` instead of `keep_prob`. Rate should be set to `rate = 1 - keep_prob`.\n"
     ]
    },
    {
     "name": "stdout",
     "output_type": "stream",
     "text": [
      "__________________________________________________________________________________________________\n",
      "Layer (type)                    Output Shape         Param #     Connected to                     \n",
      "==================================================================================================\n",
      "input_1 (InputLayer)            (None, 45)           0                                            \n",
      "__________________________________________________________________________________________________\n",
      "embedding_2 (Embedding)         (None, 45, 200)      20000000    input_1[0][0]                    \n",
      "__________________________________________________________________________________________________\n",
      "conv1d_1 (Conv1D)               (None, 44, 100)      40100       embedding_2[0][0]                \n",
      "__________________________________________________________________________________________________\n",
      "conv1d_2 (Conv1D)               (None, 43, 100)      60100       embedding_2[0][0]                \n",
      "__________________________________________________________________________________________________\n",
      "conv1d_3 (Conv1D)               (None, 42, 100)      80100       embedding_2[0][0]                \n",
      "__________________________________________________________________________________________________\n",
      "global_max_pooling1d_1 (GlobalM (None, 100)          0           conv1d_1[0][0]                   \n",
      "__________________________________________________________________________________________________\n",
      "global_max_pooling1d_2 (GlobalM (None, 100)          0           conv1d_2[0][0]                   \n",
      "__________________________________________________________________________________________________\n",
      "global_max_pooling1d_3 (GlobalM (None, 100)          0           conv1d_3[0][0]                   \n",
      "__________________________________________________________________________________________________\n",
      "concatenate_1 (Concatenate)     (None, 300)          0           global_max_pooling1d_1[0][0]     \n",
      "                                                                 global_max_pooling1d_2[0][0]     \n",
      "                                                                 global_max_pooling1d_3[0][0]     \n",
      "__________________________________________________________________________________________________\n",
      "dense_3 (Dense)                 (None, 512)          154112      concatenate_1[0][0]              \n",
      "__________________________________________________________________________________________________\n",
      "dropout_1 (Dropout)             (None, 512)          0           dense_3[0][0]                    \n",
      "__________________________________________________________________________________________________\n",
      "dense_4 (Dense)                 (None, 10)           5130        dropout_1[0][0]                  \n",
      "__________________________________________________________________________________________________\n",
      "activation_1 (Activation)       (None, 10)           0           dense_4[0][0]                    \n",
      "==================================================================================================\n",
      "Total params: 20,339,542\n",
      "Trainable params: 20,339,542\n",
      "Non-trainable params: 0\n",
      "__________________________________________________________________________________________________\n"
     ]
    }
   ],
   "source": [
    "tweet_input = Input(shape=(45,), dtype='int32')\n",
    "\n",
    "tweet_encoder = Embedding(100000, 200, input_length=45)(tweet_input)\n",
    "bigram_branch = Conv1D(filters=100, kernel_size=2, padding='valid', activation='relu', strides=1)(tweet_encoder)\n",
    "bigram_branch = GlobalMaxPooling1D()(bigram_branch)\n",
    "trigram_branch = Conv1D(filters=100, kernel_size=3, padding='valid', activation='relu', strides=1)(tweet_encoder)\n",
    "trigram_branch = GlobalMaxPooling1D()(trigram_branch)\n",
    "fourgram_branch = Conv1D(filters=100, kernel_size=4, padding='valid', activation='relu', strides=1)(tweet_encoder)\n",
    "fourgram_branch = GlobalMaxPooling1D()(fourgram_branch)\n",
    "merged = concatenate([bigram_branch, trigram_branch, fourgram_branch], axis=1)\n",
    "\n",
    "merged = Dense(512, activation='relu')(merged)\n",
    "merged = Dropout(0.2)(merged)\n",
    "merged = Dense(10)(merged)\n",
    "output = Activation('softmax')(merged)\n",
    "model = Model(inputs=[tweet_input], outputs=[output])\n",
    "model.compile(loss='sparse_categorical_crossentropy',\n",
    "                  optimizer='adam',\n",
    "                  metrics=['accuracy'])\n",
    "model.summary()"
   ]
  },
  {
   "cell_type": "code",
   "execution_count": 25,
   "metadata": {},
   "outputs": [
    {
     "name": "stdout",
     "output_type": "stream",
     "text": [
      "Train on 3675 samples, validate on 787 samples\n",
      "Epoch 1/5\n",
      "3675/3675 [==============================] - ETA: 1:18 - loss: 2.3267 - acc: 0.0000e+0 - ETA: 44s - loss: 2.2586 - acc: 0.3047    - ETA: 33s - loss: 2.1899 - acc: 0.40 - ETA: 28s - loss: 2.1183 - acc: 0.47 - ETA: 24s - loss: 2.0358 - acc: 0.51 - ETA: 22s - loss: 1.9503 - acc: 0.54 - ETA: 20s - loss: 1.8917 - acc: 0.54 - ETA: 18s - loss: 1.8141 - acc: 0.55 - ETA: 17s - loss: 1.7418 - acc: 0.56 - ETA: 17s - loss: 1.6656 - acc: 0.57 - ETA: 16s - loss: 1.5980 - acc: 0.58 - ETA: 15s - loss: 1.5625 - acc: 0.57 - ETA: 14s - loss: 1.5207 - acc: 0.58 - ETA: 14s - loss: 1.4788 - acc: 0.58 - ETA: 13s - loss: 1.4389 - acc: 0.59 - ETA: 13s - loss: 1.4202 - acc: 0.58 - ETA: 12s - loss: 1.4068 - acc: 0.58 - ETA: 12s - loss: 1.3838 - acc: 0.57 - ETA: 11s - loss: 1.3543 - acc: 0.57 - ETA: 11s - loss: 1.3347 - acc: 0.56 - ETA: 11s - loss: 1.3191 - acc: 0.56 - ETA: 10s - loss: 1.2952 - acc: 0.56 - ETA: 10s - loss: 1.2794 - acc: 0.57 - ETA: 9s - loss: 1.2722 - acc: 0.5697 - ETA: 9s - loss: 1.2567 - acc: 0.573 - ETA: 9s - loss: 1.2434 - acc: 0.575 - ETA: 8s - loss: 1.2291 - acc: 0.578 - ETA: 8s - loss: 1.2160 - acc: 0.581 - ETA: 8s - loss: 1.2055 - acc: 0.583 - ETA: 7s - loss: 1.1922 - acc: 0.587 - ETA: 7s - loss: 1.1848 - acc: 0.588 - ETA: 7s - loss: 1.1767 - acc: 0.589 - ETA: 6s - loss: 1.1703 - acc: 0.586 - ETA: 6s - loss: 1.1613 - acc: 0.588 - ETA: 6s - loss: 1.1547 - acc: 0.587 - ETA: 6s - loss: 1.1528 - acc: 0.586 - ETA: 5s - loss: 1.1479 - acc: 0.584 - ETA: 5s - loss: 1.1407 - acc: 0.585 - ETA: 5s - loss: 1.1332 - acc: 0.588 - ETA: 4s - loss: 1.1280 - acc: 0.591 - ETA: 4s - loss: 1.1227 - acc: 0.591 - ETA: 4s - loss: 1.1158 - acc: 0.594 - ETA: 3s - loss: 1.1104 - acc: 0.593 - ETA: 3s - loss: 1.1044 - acc: 0.595 - ETA: 3s - loss: 1.1006 - acc: 0.596 - ETA: 3s - loss: 1.1008 - acc: 0.594 - ETA: 2s - loss: 1.0970 - acc: 0.595 - ETA: 2s - loss: 1.0909 - acc: 0.598 - ETA: 2s - loss: 1.0879 - acc: 0.597 - ETA: 1s - loss: 1.0826 - acc: 0.599 - ETA: 1s - loss: 1.0781 - acc: 0.601 - ETA: 1s - loss: 1.0749 - acc: 0.601 - ETA: 1s - loss: 1.0703 - acc: 0.603 - ETA: 0s - loss: 1.0654 - acc: 0.604 - ETA: 0s - loss: 1.0635 - acc: 0.603 - ETA: 0s - loss: 1.0607 - acc: 0.602 - ETA: 0s - loss: 1.0581 - acc: 0.602 - 15s 4ms/step - loss: 1.0574 - acc: 0.6022 - val_loss: 0.8426 - val_acc: 0.6379\n",
      "\n",
      "Epoch 00001: val_acc improved from -inf to 0.63787, saving model to CNN_best_weights.01-0.64.hdf5\n",
      "Epoch 2/5\n",
      "3675/3675 [==============================] - ETA: 14s - loss: 0.7628 - acc: 0.67 - ETA: 13s - loss: 0.7958 - acc: 0.67 - ETA: 13s - loss: 0.7859 - acc: 0.67 - ETA: 12s - loss: 0.8117 - acc: 0.64 - ETA: 12s - loss: 0.8133 - acc: 0.65 - ETA: 12s - loss: 0.8197 - acc: 0.64 - ETA: 12s - loss: 0.8153 - acc: 0.64 - ETA: 11s - loss: 0.8202 - acc: 0.65 - ETA: 11s - loss: 0.8361 - acc: 0.64 - ETA: 11s - loss: 0.8530 - acc: 0.63 - ETA: 11s - loss: 0.8527 - acc: 0.63 - ETA: 10s - loss: 0.8592 - acc: 0.62 - ETA: 10s - loss: 0.8619 - acc: 0.62 - ETA: 10s - loss: 0.8531 - acc: 0.62 - ETA: 10s - loss: 0.8563 - acc: 0.62 - ETA: 9s - loss: 0.8635 - acc: 0.6201 - ETA: 9s - loss: 0.8582 - acc: 0.626 - ETA: 9s - loss: 0.8564 - acc: 0.628 - ETA: 9s - loss: 0.8525 - acc: 0.631 - ETA: 8s - loss: 0.8519 - acc: 0.629 - ETA: 8s - loss: 0.8480 - acc: 0.631 - ETA: 8s - loss: 0.8416 - acc: 0.635 - ETA: 8s - loss: 0.8414 - acc: 0.633 - ETA: 7s - loss: 0.8408 - acc: 0.635 - ETA: 7s - loss: 0.8375 - acc: 0.637 - ETA: 7s - loss: 0.8364 - acc: 0.636 - ETA: 7s - loss: 0.8370 - acc: 0.637 - ETA: 6s - loss: 0.8313 - acc: 0.641 - ETA: 6s - loss: 0.8281 - acc: 0.644 - ETA: 6s - loss: 0.8270 - acc: 0.645 - ETA: 6s - loss: 0.8195 - acc: 0.651 - ETA: 6s - loss: 0.8223 - acc: 0.650 - ETA: 5s - loss: 0.8197 - acc: 0.652 - ETA: 5s - loss: 0.8204 - acc: 0.651 - ETA: 5s - loss: 0.8207 - acc: 0.652 - ETA: 5s - loss: 0.8164 - acc: 0.654 - ETA: 4s - loss: 0.8139 - acc: 0.653 - ETA: 4s - loss: 0.8115 - acc: 0.655 - ETA: 4s - loss: 0.8121 - acc: 0.653 - ETA: 4s - loss: 0.8115 - acc: 0.652 - ETA: 3s - loss: 0.8085 - acc: 0.655 - ETA: 3s - loss: 0.8065 - acc: 0.657 - ETA: 3s - loss: 0.8033 - acc: 0.659 - ETA: 3s - loss: 0.8030 - acc: 0.659 - ETA: 3s - loss: 0.7995 - acc: 0.661 - ETA: 2s - loss: 0.7987 - acc: 0.662 - ETA: 2s - loss: 0.7957 - acc: 0.665 - ETA: 2s - loss: 0.7926 - acc: 0.667 - ETA: 2s - loss: 0.7913 - acc: 0.667 - ETA: 1s - loss: 0.7876 - acc: 0.669 - ETA: 1s - loss: 0.7894 - acc: 0.667 - ETA: 1s - loss: 0.7863 - acc: 0.670 - ETA: 1s - loss: 0.7859 - acc: 0.670 - ETA: 0s - loss: 0.7859 - acc: 0.670 - ETA: 0s - loss: 0.7828 - acc: 0.671 - ETA: 0s - loss: 0.7818 - acc: 0.673 - ETA: 0s - loss: 0.7781 - acc: 0.674 - 14s 4ms/step - loss: 0.7784 - acc: 0.6735 - val_loss: 0.7293 - val_acc: 0.7001\n",
      "\n",
      "Epoch 00002: val_acc improved from 0.63787 to 0.70013, saving model to CNN_best_weights.02-0.70.hdf5\n",
      "Epoch 3/5\n",
      "3675/3675 [==============================] - ETA: 15s - loss: 0.5200 - acc: 0.82 - ETA: 13s - loss: 0.5181 - acc: 0.82 - ETA: 13s - loss: 0.5059 - acc: 0.82 - ETA: 13s - loss: 0.5204 - acc: 0.79 - ETA: 13s - loss: 0.4884 - acc: 0.80 - ETA: 12s - loss: 0.4823 - acc: 0.80 - ETA: 12s - loss: 0.4729 - acc: 0.80 - ETA: 12s - loss: 0.4785 - acc: 0.80 - ETA: 11s - loss: 0.4823 - acc: 0.80 - ETA: 11s - loss: 0.4828 - acc: 0.80 - ETA: 11s - loss: 0.4938 - acc: 0.80 - ETA: 11s - loss: 0.4992 - acc: 0.80 - ETA: 10s - loss: 0.4940 - acc: 0.80 - ETA: 10s - loss: 0.4938 - acc: 0.80 - ETA: 10s - loss: 0.4881 - acc: 0.80 - ETA: 10s - loss: 0.4847 - acc: 0.80 - ETA: 9s - loss: 0.4805 - acc: 0.8061 - ETA: 9s - loss: 0.4886 - acc: 0.802 - ETA: 9s - loss: 0.4908 - acc: 0.801 - ETA: 9s - loss: 0.4898 - acc: 0.803 - ETA: 8s - loss: 0.4891 - acc: 0.805 - ETA: 8s - loss: 0.4881 - acc: 0.804 - ETA: 8s - loss: 0.4859 - acc: 0.805 - ETA: 8s - loss: 0.4834 - acc: 0.804 - ETA: 7s - loss: 0.4839 - acc: 0.803 - ETA: 7s - loss: 0.4878 - acc: 0.803 - ETA: 7s - loss: 0.4877 - acc: 0.803 - ETA: 7s - loss: 0.4909 - acc: 0.801 - ETA: 6s - loss: 0.4869 - acc: 0.803 - ETA: 6s - loss: 0.4846 - acc: 0.804 - ETA: 6s - loss: 0.4871 - acc: 0.804 - ETA: 6s - loss: 0.4844 - acc: 0.806 - ETA: 5s - loss: 0.4835 - acc: 0.806 - ETA: 5s - loss: 0.4831 - acc: 0.806 - ETA: 5s - loss: 0.4797 - acc: 0.807 - ETA: 5s - loss: 0.4765 - acc: 0.808 - ETA: 4s - loss: 0.4763 - acc: 0.808 - ETA: 4s - loss: 0.4741 - acc: 0.808 - ETA: 4s - loss: 0.4687 - acc: 0.810 - ETA: 4s - loss: 0.4699 - acc: 0.809 - ETA: 4s - loss: 0.4677 - acc: 0.810 - ETA: 3s - loss: 0.4679 - acc: 0.811 - ETA: 3s - loss: 0.4689 - acc: 0.810 - ETA: 3s - loss: 0.4683 - acc: 0.811 - ETA: 3s - loss: 0.4669 - acc: 0.812 - ETA: 2s - loss: 0.4688 - acc: 0.812 - ETA: 2s - loss: 0.4673 - acc: 0.813 - ETA: 2s - loss: 0.4693 - acc: 0.812 - ETA: 2s - loss: 0.4688 - acc: 0.812 - ETA: 1s - loss: 0.4672 - acc: 0.812 - ETA: 1s - loss: 0.4635 - acc: 0.815 - ETA: 1s - loss: 0.4639 - acc: 0.814 - ETA: 1s - loss: 0.4636 - acc: 0.814 - ETA: 0s - loss: 0.4680 - acc: 0.813 - ETA: 0s - loss: 0.4665 - acc: 0.815 - ETA: 0s - loss: 0.4663 - acc: 0.815 - ETA: 0s - loss: 0.4641 - acc: 0.815 - 14s 4ms/step - loss: 0.4637 - acc: 0.8161 - val_loss: 0.8020 - val_acc: 0.6569\n",
      "\n",
      "Epoch 00003: val_acc did not improve from 0.70013\n",
      "Epoch 4/5\n"
     ]
    },
    {
     "name": "stdout",
     "output_type": "stream",
     "text": [
      "3675/3675 [==============================] - ETA: 14s - loss: 0.2098 - acc: 0.95 - ETA: 13s - loss: 0.1976 - acc: 0.95 - ETA: 13s - loss: 0.1830 - acc: 0.96 - ETA: 14s - loss: 0.1937 - acc: 0.96 - ETA: 13s - loss: 0.1983 - acc: 0.95 - ETA: 13s - loss: 0.2089 - acc: 0.94 - ETA: 13s - loss: 0.2062 - acc: 0.93 - ETA: 13s - loss: 0.2103 - acc: 0.93 - ETA: 12s - loss: 0.2074 - acc: 0.93 - ETA: 12s - loss: 0.2078 - acc: 0.93 - ETA: 12s - loss: 0.2156 - acc: 0.93 - ETA: 11s - loss: 0.2099 - acc: 0.93 - ETA: 11s - loss: 0.2076 - acc: 0.93 - ETA: 11s - loss: 0.2078 - acc: 0.93 - ETA: 11s - loss: 0.2141 - acc: 0.93 - ETA: 10s - loss: 0.2175 - acc: 0.93 - ETA: 10s - loss: 0.2172 - acc: 0.93 - ETA: 10s - loss: 0.2171 - acc: 0.93 - ETA: 9s - loss: 0.2212 - acc: 0.9326 - ETA: 9s - loss: 0.2198 - acc: 0.933 - ETA: 9s - loss: 0.2181 - acc: 0.934 - ETA: 9s - loss: 0.2147 - acc: 0.936 - ETA: 8s - loss: 0.2107 - acc: 0.938 - ETA: 8s - loss: 0.2108 - acc: 0.938 - ETA: 8s - loss: 0.2094 - acc: 0.938 - ETA: 8s - loss: 0.2114 - acc: 0.937 - ETA: 7s - loss: 0.2124 - acc: 0.936 - ETA: 7s - loss: 0.2121 - acc: 0.936 - ETA: 7s - loss: 0.2075 - acc: 0.938 - ETA: 6s - loss: 0.2044 - acc: 0.940 - ETA: 6s - loss: 0.2027 - acc: 0.941 - ETA: 6s - loss: 0.2007 - acc: 0.941 - ETA: 6s - loss: 0.2016 - acc: 0.940 - ETA: 5s - loss: 0.2024 - acc: 0.939 - ETA: 5s - loss: 0.1993 - acc: 0.941 - ETA: 5s - loss: 0.1975 - acc: 0.942 - ETA: 5s - loss: 0.1984 - acc: 0.942 - ETA: 4s - loss: 0.1972 - acc: 0.942 - ETA: 4s - loss: 0.2002 - acc: 0.941 - ETA: 4s - loss: 0.1981 - acc: 0.942 - ETA: 4s - loss: 0.1982 - acc: 0.941 - ETA: 3s - loss: 0.1971 - acc: 0.942 - ETA: 3s - loss: 0.1963 - acc: 0.943 - ETA: 3s - loss: 0.1959 - acc: 0.943 - ETA: 3s - loss: 0.1957 - acc: 0.942 - ETA: 2s - loss: 0.1934 - acc: 0.943 - ETA: 2s - loss: 0.1926 - acc: 0.943 - ETA: 2s - loss: 0.1916 - acc: 0.943 - ETA: 2s - loss: 0.1912 - acc: 0.943 - ETA: 1s - loss: 0.1910 - acc: 0.943 - ETA: 1s - loss: 0.1922 - acc: 0.942 - ETA: 1s - loss: 0.1940 - acc: 0.942 - ETA: 1s - loss: 0.1939 - acc: 0.941 - ETA: 0s - loss: 0.1923 - acc: 0.942 - ETA: 0s - loss: 0.1913 - acc: 0.943 - ETA: 0s - loss: 0.1895 - acc: 0.943 - ETA: 0s - loss: 0.1912 - acc: 0.943 - 15s 4ms/step - loss: 0.1911 - acc: 0.9431 - val_loss: 0.9603 - val_acc: 0.6671\n",
      "\n",
      "Epoch 00004: val_acc did not improve from 0.70013\n",
      "Epoch 5/5\n",
      "3675/3675 [==============================] - ETA: 14s - loss: 0.0561 - acc: 1.00 - ETA: 16s - loss: 0.1050 - acc: 0.99 - ETA: 15s - loss: 0.0966 - acc: 0.98 - ETA: 15s - loss: 0.0827 - acc: 0.99 - ETA: 14s - loss: 0.0804 - acc: 0.99 - ETA: 14s - loss: 0.0737 - acc: 0.99 - ETA: 14s - loss: 0.0711 - acc: 0.99 - ETA: 13s - loss: 0.0674 - acc: 0.99 - ETA: 13s - loss: 0.0730 - acc: 0.99 - ETA: 12s - loss: 0.0697 - acc: 0.99 - ETA: 12s - loss: 0.0692 - acc: 0.99 - ETA: 12s - loss: 0.0746 - acc: 0.98 - ETA: 11s - loss: 0.0861 - acc: 0.98 - ETA: 11s - loss: 0.0813 - acc: 0.98 - ETA: 11s - loss: 0.0812 - acc: 0.98 - ETA: 10s - loss: 0.0781 - acc: 0.98 - ETA: 10s - loss: 0.0754 - acc: 0.98 - ETA: 10s - loss: 0.0732 - acc: 0.98 - ETA: 10s - loss: 0.0714 - acc: 0.98 - ETA: 9s - loss: 0.0702 - acc: 0.9867 - ETA: 9s - loss: 0.0702 - acc: 0.985 - ETA: 9s - loss: 0.0741 - acc: 0.985 - ETA: 9s - loss: 0.0743 - acc: 0.985 - ETA: 8s - loss: 0.0732 - acc: 0.985 - ETA: 8s - loss: 0.0713 - acc: 0.985 - ETA: 8s - loss: 0.0696 - acc: 0.986 - ETA: 8s - loss: 0.0692 - acc: 0.986 - ETA: 7s - loss: 0.0719 - acc: 0.985 - ETA: 7s - loss: 0.0706 - acc: 0.986 - ETA: 7s - loss: 0.0689 - acc: 0.986 - ETA: 7s - loss: 0.0714 - acc: 0.985 - ETA: 6s - loss: 0.0720 - acc: 0.985 - ETA: 6s - loss: 0.0716 - acc: 0.985 - ETA: 6s - loss: 0.0764 - acc: 0.983 - ETA: 6s - loss: 0.0762 - acc: 0.983 - ETA: 5s - loss: 0.0770 - acc: 0.983 - ETA: 5s - loss: 0.0756 - acc: 0.983 - ETA: 5s - loss: 0.0751 - acc: 0.983 - ETA: 4s - loss: 0.0767 - acc: 0.982 - ETA: 4s - loss: 0.0779 - acc: 0.982 - ETA: 4s - loss: 0.0767 - acc: 0.982 - ETA: 4s - loss: 0.0777 - acc: 0.981 - ETA: 3s - loss: 0.0768 - acc: 0.982 - ETA: 3s - loss: 0.0768 - acc: 0.982 - ETA: 3s - loss: 0.0763 - acc: 0.982 - ETA: 3s - loss: 0.0774 - acc: 0.982 - ETA: 2s - loss: 0.0786 - acc: 0.981 - ETA: 2s - loss: 0.0780 - acc: 0.981 - ETA: 2s - loss: 0.0774 - acc: 0.981 - ETA: 1s - loss: 0.0770 - acc: 0.981 - ETA: 1s - loss: 0.0759 - acc: 0.981 - ETA: 1s - loss: 0.0762 - acc: 0.982 - ETA: 1s - loss: 0.0765 - acc: 0.981 - ETA: 0s - loss: 0.0764 - acc: 0.981 - ETA: 0s - loss: 0.0773 - acc: 0.981 - ETA: 0s - loss: 0.0765 - acc: 0.981 - ETA: 0s - loss: 0.0763 - acc: 0.981 - 15s 4ms/step - loss: 0.0764 - acc: 0.9818 - val_loss: 1.0335 - val_acc: 0.6645\n",
      "\n",
      "Epoch 00005: val_acc did not improve from 0.70013\n"
     ]
    },
    {
     "data": {
      "text/plain": [
       "<keras.callbacks.History at 0x1b942498ba8>"
      ]
     },
     "execution_count": 25,
     "metadata": {},
     "output_type": "execute_result"
    }
   ],
   "source": [
    "from keras.callbacks import ModelCheckpoint\n",
    "\n",
    "filepath=\"CNN_best_weights.{epoch:02d}-{val_acc:.2f}.hdf5\"\n",
    "checkpoint = ModelCheckpoint(filepath, monitor='val_acc', verbose=1, save_best_only=True, mode='max')\n",
    "\n",
    "model.fit(x_train_seq, y_train, batch_size=64, epochs=5,\n",
    "                     validation_data=(x_val_seq, y_validation), callbacks = [checkpoint])"
   ]
  },
  {
   "cell_type": "code",
   "execution_count": 26,
   "metadata": {},
   "outputs": [
    {
     "name": "stderr",
     "output_type": "stream",
     "text": [
      "C:\\Users\\Asus FX504\\.conda\\envs\\tensor\\lib\\site-packages\\sklearn\\linear_model\\logistic.py:432: FutureWarning: Default solver will be changed to 'lbfgs' in 0.22. Specify a solver to silence this warning.\n",
      "  FutureWarning)\n",
      "C:\\Users\\Asus FX504\\.conda\\envs\\tensor\\lib\\site-packages\\sklearn\\linear_model\\logistic.py:469: FutureWarning: Default multi_class will be changed to 'auto' in 0.22. Specify the multi_class option to silence this warning.\n",
      "  \"this warning.\", FutureWarning)\n"
     ]
    }
   ],
   "source": [
    "from sklearn.feature_extraction.text import TfidfVectorizer\n",
    "tvec = TfidfVectorizer(max_features=100000,ngram_range=(1, 3))\n",
    "tvec.fit(x_train)\n",
    "\n",
    "x_train_tfidf = tvec.transform(x_train)\n",
    "x_test_tfidf = tvec.transform(x_test)\n",
    "lr_with_tfidf = LogisticRegression()\n",
    "lr_with_tfidf.fit(x_train_tfidf,y_train)\n",
    "lr_with_tfidf.score(x_test_tfidf,y_test)\n",
    "yhat_lr = lr_with_tfidf.predict_proba(x_test_tfidf)"
   ]
  },
  {
   "cell_type": "code",
   "execution_count": 31,
   "metadata": {},
   "outputs": [],
   "source": [
    "from keras.models import load_model\n",
    "loaded_CNN_model = load_model('CNN_best_weights.02-0.70.hdf5')"
   ]
  },
  {
   "cell_type": "code",
   "execution_count": 28,
   "metadata": {},
   "outputs": [],
   "source": [
    "sequences_test = tokenizer.texts_to_sequences(x_test)\n",
    "x_test_seq = pad_sequences(sequences_test, maxlen=45)"
   ]
  },
  {
   "cell_type": "code",
   "execution_count": 32,
   "metadata": {},
   "outputs": [
    {
     "name": "stdout",
     "output_type": "stream",
     "text": [
      "788/788 [==============================] - ETA:  - ETA:  - ETA:  - 0s 300us/step\n"
     ]
    },
    {
     "data": {
      "text/plain": [
       "[0.7598611273741359, 0.6916243651796719]"
      ]
     },
     "execution_count": 32,
     "metadata": {},
     "output_type": "execute_result"
    }
   ],
   "source": [
    "loaded_CNN_model.evaluate(x=x_test_seq, y=y_test)"
   ]
  },
  {
   "cell_type": "code",
   "execution_count": 33,
   "metadata": {},
   "outputs": [],
   "source": [
    "yhat_cnn = loaded_CNN_model.predict(x_test_seq)"
   ]
  },
  {
   "cell_type": "code",
   "execution_count": 43,
   "metadata": {},
   "outputs": [],
   "source": [
    "from sklearn.metrics import roc_curve, auc\n",
    "n_classes=3\n",
    "y = label_binarize(y_test, classes=[0,1,2])\n",
    "fpr = dict()\n",
    "tpr = dict()\n",
    "roc_auc = dict()\n",
    "for i in range(n_classes):\n",
    "    fpr[i], tpr[i], _ = roc_curve(y[:, i], yhat_cnn[:, i])\n",
    "    roc_auc[i] = auc(fpr[i], tpr[i])"
   ]
  },
  {
   "cell_type": "code",
   "execution_count": 47,
   "metadata": {},
   "outputs": [
    {
     "data": {
      "image/png": "[encoded data removed]",
      "text/plain": [
       "<Figure size 432x288 with 1 Axes>"
      ]
     },
     "metadata": {
      "needs_background": "light"
     },
     "output_type": "display_data"
    },
    {
     "data": {
      "image/png": "[encoded data removed]",
      "text/plain": [
       "<Figure size 432x288 with 1 Axes>"
      ]
     },
     "metadata": {
      "needs_background": "light"
     },
     "output_type": "display_data"
    },
    {
     "data": {
      "image/png": "[encoded data removed]",
      "text/plain": [
       "<Figure size 432x288 with 1 Axes>"
      ]
     },
     "metadata": {
      "needs_background": "light"
     },
     "output_type": "display_data"
    }
   ],
   "source": [
    "for i in range(n_classes):\n",
    "    plt.figure()\n",
    "    plt.plot(fpr[i], tpr[i], label='ROC curve (area = %0.2f)' % roc_auc[i])\n",
    "    plt.plot([0, 1], [0, 1], 'k--')\n",
    "    plt.xlim([0.0, 1.0])\n",
    "    plt.ylim([0.0, 1.05])\n",
    "    plt.xlabel('False Positive Rate')\n",
    "    plt.ylabel('True Positive Rate')\n",
    "    plt.title('Receiver operating characteristic example')\n",
    "    plt.legend(loc=\"lower right\")\n",
    "    plt.show()"
   ]
  },
  {
   "cell_type": "markdown",
   "metadata": {},
   "source": [
    "### Test DataSet Work"
   ]
  },
  {
   "cell_type": "code",
   "execution_count": null,
   "metadata": {},
   "outputs": [],
   "source": [
    "#For Reading Test Dataset\n",
    "def read_data(tweets_data_path):\n",
    "    tweets_data = []\n",
    "    tweets_file = open(tweets_data_path, \"r\")\n",
    "    line = tweets_file.readline()\n",
    "    for line in tweets_file:\n",
    "        try:\n",
    "            tweet = json.loads(line)\n",
    "            tweets_data.append(tweet)\n",
    "        except:\n",
    "            continue\n",
    "    data = pd.DataFrame.from_dict(tweets_data)\n",
    "    return data"
   ]
  },
  {
   "cell_type": "code",
   "execution_count": null,
   "metadata": {},
   "outputs": [],
   "source": [
    "#Read Test Dataset\n",
    "tweet_data=read_data(\"D:/Thesis/autonomousDriveMulti.json\")\n",
    "tweet_data1=read_data(\"D:/Thesis/autonomousDrive.json\")\n",
    "tweet_data2=read_data(\"D:/Thesis/python.json\")\n",
    "tweets= pd.concat([tweet_data, tweet_data1,tweet_data2], ignore_index=True)"
   ]
  },
  {
   "cell_type": "code",
   "execution_count": null,
   "metadata": {},
   "outputs": [],
   "source": [
    "#For Test Dataset Only\n",
    "tweets_by_lang = tweets['lang'].value_counts()\n",
    "\n",
    "fig, ax = plt.subplots()\n",
    "ax.tick_params(axis='x', labelsize=15)\n",
    "ax.tick_params(axis='y', labelsize=10)\n",
    "ax.set_xlabel('Languages', fontsize=15)\n",
    "ax.set_ylabel('Number of tweets' , fontsize=15)\n",
    "ax.set_title('Top 5 languages', fontsize=15, fontweight='bold')\n",
    "tweets_by_lang[:5].plot(ax=ax, kind='bar')"
   ]
  },
  {
   "cell_type": "code",
   "execution_count": null,
   "metadata": {},
   "outputs": [],
   "source": [
    "#For Test Dataset Only\n",
    "tweets_by_lang = tweets['source'].value_counts()\n",
    "fig, ax = plt.subplots()\n",
    "ax.tick_params(axis='x', labelsize=15)\n",
    "ax.tick_params(axis='y', labelsize=10)\n",
    "ax.set_xlabel('Source', fontsize=15)\n",
    "ax.set_ylabel('Number of tweets' , fontsize=15)\n",
    "ax.set_title('Top 5 languages', fontsize=15, fontweight='bold')\n",
    "tweets_by_lang[:5].plot(ax=ax, kind='bar')"
   ]
  },
  {
   "cell_type": "code",
   "execution_count": null,
   "metadata": {},
   "outputs": [],
   "source": [
    "#tweets_data_path = 'D:/Thesis/autonomousDrive.json'\n",
    "\n",
    "#tweets_data = []\n",
    "#tweets_file = open(tweets_data_path, \"r\")\n",
    "#line = tweets_file.readline()\n",
    "#for line in tweets_file:\n",
    "#    try:\n",
    "#        tweet = json.loads(line)\n",
    "#        tweets_data.append(tweet)\n",
    "#    except:\n",
    "#        continue"
   ]
  },
  {
   "cell_type": "code",
   "execution_count": null,
   "metadata": {},
   "outputs": [],
   "source": [
    "#tweets = pd.DataFrame.from_dict(tweets_data)\n",
    "#tweets = pd.read_excel(\"D:\\\\Thesis\\\\Code\\\\tweet.xlsx\")"
   ]
  },
  {
   "cell_type": "code",
   "execution_count": null,
   "metadata": {},
   "outputs": [],
   "source": [
    "#Conversion to xlsx (optional)\n",
    "writer = ExcelWriter('tweet.xlsx')\n",
    "tweets.to_excel(writer,'Sheet1')\n",
    "writer.save()"
   ]
  },
  {
   "cell_type": "code",
   "execution_count": null,
   "metadata": {},
   "outputs": [],
   "source": [
    "#For Test Dataset Only\n",
    "tweets['created_at'] = pd.to_datetime(tweets.created_at)\n",
    "tweets['source'] = tweets['source'].str.extract('>(.+?)<', expand=False).str.strip()\n",
    "tweets['pre_clean_len'] = [len(t) for t in tweets.text]"
   ]
  },
  {
   "cell_type": "code",
   "execution_count": null,
   "metadata": {},
   "outputs": [],
   "source": [
    "#For Test Dataset Only\n",
    "fig, ax = plt.subplots(figsize=(5, 5))\n",
    "plt.boxplot(tweets.pre_clean_len)\n",
    "plt.show()"
   ]
  },
  {
   "cell_type": "code",
   "execution_count": null,
   "metadata": {},
   "outputs": [],
   "source": [
    "#Test Data Clean\n",
    "x = len(tweets.index)\n",
    "nums = [0,x]\n",
    "print(\"Cleaning and parsing the tweets...\\n\")\n",
    "clean_tweet_texts = []\n",
    "for i in range(nums[0],nums[1]):\n",
    "    if( (i+1)%881 == 0 ):\n",
    "        print(\"Tweets %d of %d has been processed\" % ( i+1, nums[1] ))                                                                    \n",
    "    clean_tweet_texts.append(tweet_cleaner_updated(tweets['text'][i]))\n",
    "    clean_df = pd.DataFrame(clean_tweet_texts,columns=['text'])"
   ]
  },
  {
   "cell_type": "code",
   "execution_count": null,
   "metadata": {},
   "outputs": [],
   "source": [
    "text = \" \".join(message for message in tweets.text)\n",
    "# Create and generate a word cloud image:\n",
    "wordcloud = WordCloud(width = 2400, height = 1600).generate(text)\n",
    "# Display the generated image:\n",
    "plt.imshow(wordcloud, interpolation='gaussian')\n",
    "plt.axis(\"off\")\n",
    "plt.show()"
   ]
  },
  {
   "cell_type": "code",
   "execution_count": null,
   "metadata": {},
   "outputs": [],
   "source": [
    "time_len=pd.Series(data=tweets['pre_clean_len'].values, index=tweets['created_at'])\n",
    "time_len.plot(figsize=(16, 4), color='r')\n",
    "plt.show()"
   ]
  },
  {
   "cell_type": "code",
   "execution_count": null,
   "metadata": {},
   "outputs": [],
   "source": [
    "#clean_df.groupby(level=0).first()"
   ]
  },
  {
   "cell_type": "markdown",
   "metadata": {},
   "source": [
    "# END"
   ]
  }
 ],
 "metadata": {
  "kernelspec": {
   "display_name": "Python 3",
   "language": "python",
   "name": "python3"
  },
  "language_info": {
   "codemirror_mode": {
    "name": "ipython",
    "version": 3
   },
   "file_extension": ".py",
   "mimetype": "text/x-python",
   "name": "python",
   "nbconvert_exporter": "python",
   "pygments_lexer": "ipython3",
   "version": "3.6.9"
  }
 },
 "nbformat": 4,
 "nbformat_minor": 2
}
